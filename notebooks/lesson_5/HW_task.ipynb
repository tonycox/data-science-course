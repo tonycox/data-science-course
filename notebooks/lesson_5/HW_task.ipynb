{
 "cells": [
  {
   "cell_type": "markdown",
   "metadata": {},
   "source": [
    "## Task 1\n",
    "### Классификация с использованием SVM"
   ]
  },
  {
   "cell_type": "markdown",
   "metadata": {},
   "source": [
    "**Предсказать что возраст человека больше 50 лет или меньше.**\n",
    "\n",
    "- выкачать дата сет http://archive.ics.uci.edu/ml/datasets/Adult \n",
    "- ознакомится с данными - описание доступно [здесь](http://archive.ics.uci.edu/ml/machine-learning-databases/adult/adult.names)\n",
    "- преобразовать колонку содержащую значения >50K, <=50K. в 1 и 0 - это мы будем классифицировать.\n",
    "- удалить из дата сета колонку \"возраст(age)\" - это очень сильный хак))\n",
    "- преобразовать все признаки которые считаете нужными, как считаете нужными. что то можно удалить. [hint](http://scikit-learn.org/stable/modules/generated/sklearn.preprocessing.StandardScaler.html)\n",
    "- оценить модель используя f1 метрику. Объяснить результаты классификации.\n",
    "\n",
    "**Проверка подлинности банкноты**\n",
    "- выкачать дата сет  http://archive.ics.uci.edu/ml/datasets/banknote+authentication\n",
    "- ознакомится с данными - раздел _Attribute Information_ на странице дата сета\n",
    "- преобразовать все признаки которые считаете нужными, как считаете нужными. что то можно удалить.\n",
    "- предсказывать \"class\"\n",
    "- оценить модель используя f1 метрику. Объяснить результаты классификации."
   ]
  },
  {
   "cell_type": "markdown",
   "metadata": {},
   "source": [
    "## Task 2\n",
    "### Регрессия с использованием SVM\n"
   ]
  },
  {
   "cell_type": "markdown",
   "metadata": {},
   "source": [
    "**Сколько лайков соберет публикация**\n",
    "\n",
    "- выкачать дата сет http://archive.ics.uci.edu/ml/machine-learning-databases/00368/\n",
    "- описание дата сета я что то не нашел, но там из названия колонок впринципе понятно что за что.\n",
    "- предсказывать нужно колонку \"like\"\n",
    "- оценить точность модели, сделать выводы."
   ]
  },
  {
   "cell_type": "code",
   "execution_count": null,
   "metadata": {
    "collapsed": true
   },
   "outputs": [],
   "source": []
  }
 ],
 "metadata": {
  "hide_input": false,
  "kernelspec": {
   "display_name": "Python 3",
   "language": "python",
   "name": "python3"
  },
  "language_info": {
   "codemirror_mode": {
    "name": "ipython",
    "version": 3
   },
   "file_extension": ".py",
   "mimetype": "text/x-python",
   "name": "python",
   "nbconvert_exporter": "python",
   "pygments_lexer": "ipython3",
   "version": "3.6.1"
  }
 },
 "nbformat": 4,
 "nbformat_minor": 2
}
