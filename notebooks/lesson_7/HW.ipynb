{
 "cells": [
  {
   "cell_type": "markdown",
   "metadata": {},
   "source": [
    "Данная домашняя работа составлена на основании источников указанных в ноутуке урока и [домашнего задания](https://github.com/Yorko/mlcourse_open/blob/master/jupyter_notebooks/homeworks/hw05_logit_rf_credit_scoring.ipynb) сообщества Open Data Science"
   ]
  },
  {
   "cell_type": "code",
   "execution_count": null,
   "metadata": {
    "collapsed": true
   },
   "outputs": [],
   "source": [
    "# отключим предупреждения Anaconda\n",
    "import warnings\n",
    "warnings.filterwarnings('ignore')\n",
    "import pandas as pd\n",
    "import random \n",
    "import numpy as np"
   ]
  },
  {
   "cell_type": "markdown",
   "metadata": {},
   "source": [
    "### Задание 1\n",
    "_(вспоминаем теорему Кондорсе «о жюри присяжных».)_\n",
    "\n",
    "На конкурсе 5 членов жюри, каждый член жюри по отдельности с вероятностью 70% может угадать следующего победителя конкурса. С какой вероятностью все вместе члены жюри могут угадать следующего победителя, если решение принимается большинством голосов?"
   ]
  },
  {
   "cell_type": "markdown",
   "metadata": {},
   "source": [
    "Варианты ответов:\n",
    "- **73.32%**\n",
    "- **77.44%**\n",
    "- **83.7%**\n",
    "- **87.4%**\n",
    "- **90.12%**"
   ]
  },
  {
   "cell_type": "code",
   "execution_count": null,
   "metadata": {},
   "outputs": [],
   "source": [
    "# ваш код здесь"
   ]
  },
  {
   "cell_type": "markdown",
   "metadata": {},
   "source": [
    "### Задание 2\n",
    "Используя подход будстрап выборок предсказать среднее значение сгенерированного массива.\n",
    "При каком размере подвыборки получается наиболее точное значение среднего?\n",
    "\n",
    "Варианты ответов:\n",
    "- **1**\n",
    "- **5**\n",
    "- **10**\n",
    "- **15**"
   ]
  },
  {
   "cell_type": "code",
   "execution_count": null,
   "metadata": {},
   "outputs": [],
   "source": [
    "seed=17\n",
    "random.seed(seed) # зафиксировать рандом для воспроизводимости\n",
    "np.random.seed(seed)\n",
    "\n",
    "dataset = np.array([random.uniform(0, 333) for _ in range(100)])\n",
    "print(\"Истинное средне значение сгенерированных данных: {}\".format(np.mean(dataset)))"
   ]
  },
  {
   "cell_type": "code",
   "execution_count": null,
   "metadata": {},
   "outputs": [],
   "source": [
    "# Код по предсказанию среднего\n",
    "def get_bootstrap_samples(data, n_samples, seed=0):\n",
    "    ''' функция для генерации подвыборок с помощью бутстрэпа '''\n",
    "    np.random.seed(seed)\n",
    "    # ваш код\n",
    "    pass\n",
    "\n",
    "random.seed(seed) # зафиксировать рандом для воспроизводимости\n",
    "for sub_size in []:\n",
    "    # ваш код\n",
    "    pass"
   ]
  },
  {
   "cell_type": "markdown",
   "metadata": {},
   "source": [
    "Для выполнения следующих заданий вам понадобится следующий датасет:\n",
    "\n",
    "https://raw.githubusercontent.com/Yorko/mlcourse_open/master/data/credit_scoring_sample.csv\n",
    "\n",
    "Данные представлены следующим образом:\n",
    "\n",
    "Прогнозируемая переменная\n",
    "\n",
    "    SeriousDlqin2yrs ----Человек не выплатил данный кредит в течение 90 дней; возможные значения 1/0\n",
    "\n",
    "Независимые признаки\n",
    "\n",
    "   - age ---- Возраст заёмщика кредитных средств; тип - integer\n",
    "   - NumberOfTime30-59DaysPastDueNotWorse ----Количество раз, когда человек имел просрочку выплаты других кредитов более 30-59 дней, но не больше в течение последних двух лет; тип - integer\n",
    "   - DebtRatio ---- Ежемесячный отчисления на задолжености(кредиты,алименты и т.д.) / совокупный месячный доход percentage; тип - real\n",
    "   - MonthlyIncome ----Месячный доход в долларах; тип - real\n",
    "   - NumberOfTimes90DaysLate ----Количество раз, когда человек имел просрочку выплаты других кредитов более 90 дней; тип - integer\n",
    "   - NumberOfTime60-89DaysPastDueNotWorse---- Количество раз, когда человек имел просрочку выплаты других кредитов более 60-89 дней, но не больше в течение последних двух лет; ; тип - integer\n",
    "   - NumberOfDependents ----Число человек в семье кредитозаёмщика; тип - integer\n"
   ]
  },
  {
   "cell_type": "code",
   "execution_count": null,
   "metadata": {
    "collapsed": true
   },
   "outputs": [],
   "source": [
    "## Сделаем функцию, которая будет заменять NaN значения на медиану в каждом столбце таблицы \n",
    "def delete_nan(table):\n",
    "    for col in table.columns:\n",
    "        table[col]= table[col].fillna(table[col].median())\n",
    "    return table\n",
    "\n",
    "## Считываем данные\n",
    "data = pd.read_csv('https://raw.githubusercontent.com/Yorko/mlcourse_open/master/data/credit_scoring_sample.csv', sep =';')\n",
    "\n",
    "## Выберем названия всех признаков из таблицы, кроме прогнозируемого\n",
    "independent_columns_names = data.columns.values\n",
    "independent_columns_names = [x for x in data if x != 'SeriousDlqin2yrs']\n",
    "\n",
    "## Применяем функцию, заменяющую все NaN значения на медианное значение соответствующего столбца\n",
    "table =delete_nan(data)\n",
    "\n",
    "## Разделяем таргет и признаки \n",
    "X =table[independent_columns_names]\n",
    "y = table['SeriousDlqin2yrs']"
   ]
  },
  {
   "cell_type": "markdown",
   "metadata": {},
   "source": [
    "### Задание 3 \n",
    "**Простая реализация случайного леса**"
   ]
  },
  {
   "cell_type": "markdown",
   "metadata": {},
   "source": [
    "Реализуйте свой собственный случайный лес с помощью `DecisionTreeClassifier` с параметрами поумолчанию. В нашем лесу будет 10 деревьев, предсказанные вероятности которых вам нужно усреднить. \n",
    "\n",
    "Краткая спецификация: \n",
    " - Используйте основу ниже\n",
    " - В методе `fit` в цикле (`i` от 0 до `n_estimators-1`) фиксируйте seed.\n",
    " - Зафиксировав seed, выберите **без замещения** `max_features` признаков, сохраните список выбранных id признаков в `self.feat_ids_by_tree`\n",
    " - Также сделайте bootstrap-выборку (т.е. **с замещением**) из множества id объектов \n",
    " - Метод `fit` возвращает текущий экземпляр класса `RandomForestClassifierCustom`, то есть `self`\n",
    " - В методе `predict_proba` опять нужен цикл по всем деревьям. У тестовой выборки нужно взять те признаки, на которых соответсвующее дерево обучалось, и сделать прогноз вероятностей (`predict_proba` уже для дерева). Метод должен вернуть усреднение прогнозов по всем деревьям.\n",
    "\n",
    "Проведите кросс-валидацию. Какое получилось среднее значение ROC AUC на кросс-валидации? Выберите самое близкое значение.\n",
    "\n",
    "Варианты ответа:\n",
    "- **0.813**\n",
    "- **0.823**\n",
    "- **0.833**\n",
    "- **0.843**\n",
    "- **0.853**"
   ]
  },
  {
   "cell_type": "code",
   "execution_count": null,
   "metadata": {
    "collapsed": true
   },
   "outputs": [],
   "source": [
    "from sklearn.base import BaseEstimator\n",
    "from sklearn.tree import DecisionTreeClassifier\n",
    "from sklearn.model_selection import GridSearchCV, StratifiedKFold,cross_val_score\n",
    "\n",
    "class RandomForestClassifierCustom(BaseEstimator):\n",
    "    def __init__(self, n_estimators=10, max_depth=7, max_features=6, random_state=17):\n",
    "        self.n_estimators = n_estimators\n",
    "        self.max_depth = max_depth\n",
    "        self.max_features = max_features\n",
    "        self.random_state = random_state\n",
    "        \n",
    "        self.trees = []\n",
    "        self.feat_ids_by_tree = []\n",
    "        \n",
    "    def fit(self, X, y):\n",
    "        ## ваш код здесь\n",
    "        pass\n",
    "    \n",
    "    def predict_proba(self, X):\n",
    "        ## ваш код здесь\n",
    "        pass"
   ]
  },
  {
   "cell_type": "markdown",
   "metadata": {},
   "source": [
    "Зафиксируем кросс-валидацию: стратифицированная, 5 разбиений с перемешиванием, не забываем про `random_state`."
   ]
  },
  {
   "cell_type": "code",
   "execution_count": null,
   "metadata": {
    "collapsed": true
   },
   "outputs": [],
   "source": [
    "skf = StratifiedKFold(n_splits=5, shuffle=True, random_state=17)"
   ]
  },
  {
   "cell_type": "code",
   "execution_count": null,
   "metadata": {},
   "outputs": [],
   "source": [
    "rf = RandomForestClassifierCustom().fit(X.values, y.values)"
   ]
  },
  {
   "cell_type": "code",
   "execution_count": null,
   "metadata": {},
   "outputs": [],
   "source": [
    "cv_aucs = cross_val_score(RandomForestClassifierCustom(max_depth=7, max_features=6),\\\n",
    "                          X.values, y.values, scoring=\"roc_auc\", cv=skf)\n",
    "print(\"Средняя ROC AUC для собственного случайного леса:\", np.mean(cv_aucs))"
   ]
  },
  {
   "cell_type": "markdown",
   "metadata": {},
   "source": [
    "### Задание 4\n",
    "Тут сравним нашу собственную реализацию случайного леса с sklearn-овской. Для этого воспользуйтесь RandomForestClassifier(n_jobs=1, random_state=seed), укажите все те же значения max_depth и max_features, что и раньше. Какое среднее значение ROC AUC на кросс-валидации мы в итоге получили? Выберите самое близкое значение.\n",
    "\n",
    "Варианты ответа:\n",
    "- **0.823**\n",
    "- **0.833**\n",
    "- **0.843**\n",
    "- **0.853**\n"
   ]
  },
  {
   "cell_type": "code",
   "execution_count": null,
   "metadata": {
    "collapsed": true
   },
   "outputs": [],
   "source": [
    "from sklearn.ensemble import RandomForestClassifier\n",
    "## ваш код здесь"
   ]
  },
  {
   "cell_type": "markdown",
   "metadata": {},
   "source": [
    "### Задание 5\n",
    "Подберите с помощью GridSearchCV (RandomForestClassifier(random_state=17)) глубину деревьев (max_depth) и количество параметров (max_features).\n",
    "Чему равны их значения?"
   ]
  },
  {
   "cell_type": "code",
   "execution_count": null,
   "metadata": {
    "collapsed": true
   },
   "outputs": [],
   "source": [
    "max_depth_values = # ваш код\n",
    "max_features_values = # ваш код\n",
    "forest_params = {'max_depth': max_depth_values,\n",
    "               'max_features': max_features_values}"
   ]
  }
 ],
 "metadata": {
  "hide_input": false,
  "kernelspec": {
   "display_name": "Python 3",
   "language": "python",
   "name": "python3"
  },
  "language_info": {
   "codemirror_mode": {
    "name": "ipython",
    "version": 3
   },
   "file_extension": ".py",
   "mimetype": "text/x-python",
   "name": "python",
   "nbconvert_exporter": "python",
   "pygments_lexer": "ipython3",
   "version": "3.6.1"
  }
 },
 "nbformat": 4,
 "nbformat_minor": 2
}
