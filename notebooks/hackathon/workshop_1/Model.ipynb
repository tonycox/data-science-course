{
 "cells": [
  {
   "cell_type": "code",
   "execution_count": 1,
   "metadata": {},
   "outputs": [],
   "source": [
    "import os\n",
    "import numpy as np\n",
    "import pandas as pd\n",
    "from sklearn.ensemble import RandomForestClassifier\n",
    "from sklearn.model_selection import GridSearchCV,train_test_split\n",
    "from sklearn.metrics import classification_report\n",
    "\n",
    "\n",
    "DATA_FOLDER = os.path.join('..','..','..', 'data', 'workshop_1')\n",
    "def resolve_path(*path):\n",
    "    return os.path.join(DATA_FOLDER,*path)"
   ]
  },
  {
   "cell_type": "code",
   "execution_count": 78,
   "metadata": {},
   "outputs": [],
   "source": [
    "df_s=pd.DataFrame.from_csv(resolve_path('csv','problems_source.csv'))\n",
    "df=df_s.sample(n=int(len(df_s)*.05), replace=True, random_state=42)\n",
    "df=df.append(df_s[df_s['status']=='Не удовлетворён'])\n",
    "# del df_s"
   ]
  },
  {
   "cell_type": "code",
   "execution_count": 79,
   "metadata": {},
   "outputs": [
    {
     "data": {
      "text/html": [
       "<div>\n",
       "<style>\n",
       "    .dataframe thead tr:only-child th {\n",
       "        text-align: right;\n",
       "    }\n",
       "\n",
       "    .dataframe thead th {\n",
       "        text-align: left;\n",
       "    }\n",
       "\n",
       "    .dataframe tbody tr th {\n",
       "        vertical-align: top;\n",
       "    }\n",
       "</style>\n",
       "<table border=\"1\" class=\"dataframe\">\n",
       "  <thead>\n",
       "    <tr style=\"text-align: right;\">\n",
       "      <th></th>\n",
       "      <th>address</th>\n",
       "      <th>building</th>\n",
       "      <th>category</th>\n",
       "      <th>city_object</th>\n",
       "      <th>district</th>\n",
       "      <th>is_public</th>\n",
       "      <th>latitude</th>\n",
       "      <th>longitude</th>\n",
       "      <th>municipality</th>\n",
       "      <th>reason</th>\n",
       "      <th>status</th>\n",
       "      <th>type_of</th>\n",
       "      <th>url</th>\n",
       "    </tr>\n",
       "    <tr>\n",
       "      <th>id</th>\n",
       "      <th></th>\n",
       "      <th></th>\n",
       "      <th></th>\n",
       "      <th></th>\n",
       "      <th></th>\n",
       "      <th></th>\n",
       "      <th></th>\n",
       "      <th></th>\n",
       "      <th></th>\n",
       "      <th></th>\n",
       "      <th></th>\n",
       "      <th></th>\n",
       "      <th></th>\n",
       "    </tr>\n",
       "  </thead>\n",
       "  <tbody>\n",
       "    <tr>\n",
       "      <th>699906</th>\n",
       "      <td>город Пушкин, Конюшенная улица, дом 37, литера А</td>\n",
       "      <td>92194.0</td>\n",
       "      <td>19</td>\n",
       "      <td>1</td>\n",
       "      <td>35</td>\n",
       "      <td>True</td>\n",
       "      <td>59.720988</td>\n",
       "      <td>30.415632</td>\n",
       "      <td>160.0</td>\n",
       "      <td>210</td>\n",
       "      <td>Получен ответ</td>\n",
       "      <td>building</td>\n",
       "      <td>/facilities/92194/problems/</td>\n",
       "    </tr>\n",
       "    <tr>\n",
       "      <th>149846</th>\n",
       "      <td>г.Санкт-Петербург, проспект Героев, дом 24, ко...</td>\n",
       "      <td>139731.0</td>\n",
       "      <td>8</td>\n",
       "      <td>1</td>\n",
       "      <td>16</td>\n",
       "      <td>False</td>\n",
       "      <td>59.861226</td>\n",
       "      <td>30.166544</td>\n",
       "      <td>111.0</td>\n",
       "      <td>26</td>\n",
       "      <td>Отклонено</td>\n",
       "      <td>building</td>\n",
       "      <td>NaN</td>\n",
       "    </tr>\n",
       "    <tr>\n",
       "      <th>689932</th>\n",
       "      <td>г.Санкт-Петербург, Крюкова улица, дом 11, лите...</td>\n",
       "      <td>76648.0</td>\n",
       "      <td>10</td>\n",
       "      <td>1</td>\n",
       "      <td>11</td>\n",
       "      <td>False</td>\n",
       "      <td>59.961808</td>\n",
       "      <td>30.417959</td>\n",
       "      <td>105.0</td>\n",
       "      <td>35</td>\n",
       "      <td>Получен ответ</td>\n",
       "      <td>building</td>\n",
       "      <td>NaN</td>\n",
       "    </tr>\n",
       "    <tr>\n",
       "      <th>455840</th>\n",
       "      <td>г.Санкт-Петербург, набережная реки Фонтанки, д...</td>\n",
       "      <td>84097.0</td>\n",
       "      <td>10</td>\n",
       "      <td>1</td>\n",
       "      <td>32</td>\n",
       "      <td>False</td>\n",
       "      <td>59.916693</td>\n",
       "      <td>30.293292</td>\n",
       "      <td>66.0</td>\n",
       "      <td>119</td>\n",
       "      <td>Получен ответ</td>\n",
       "      <td>building</td>\n",
       "      <td>NaN</td>\n",
       "    </tr>\n",
       "    <tr>\n",
       "      <th>562500</th>\n",
       "      <td>г.Санкт-Петербург, набережная Крюкова канала, ...</td>\n",
       "      <td>57528.0</td>\n",
       "      <td>10</td>\n",
       "      <td>1</td>\n",
       "      <td>32</td>\n",
       "      <td>True</td>\n",
       "      <td>59.918182</td>\n",
       "      <td>30.300352</td>\n",
       "      <td>66.0</td>\n",
       "      <td>189</td>\n",
       "      <td>Получен ответ</td>\n",
       "      <td>building</td>\n",
       "      <td>/facilities/57528/problems/</td>\n",
       "    </tr>\n",
       "  </tbody>\n",
       "</table>\n",
       "</div>"
      ],
      "text/plain": [
       "                                                  address  building  category  \\\n",
       "id                                                                              \n",
       "699906   город Пушкин, Конюшенная улица, дом 37, литера А   92194.0        19   \n",
       "149846  г.Санкт-Петербург, проспект Героев, дом 24, ко...  139731.0         8   \n",
       "689932  г.Санкт-Петербург, Крюкова улица, дом 11, лите...   76648.0        10   \n",
       "455840  г.Санкт-Петербург, набережная реки Фонтанки, д...   84097.0        10   \n",
       "562500  г.Санкт-Петербург, набережная Крюкова канала, ...   57528.0        10   \n",
       "\n",
       "        city_object  district  is_public   latitude  longitude  municipality  \\\n",
       "id                                                                             \n",
       "699906            1        35       True  59.720988  30.415632         160.0   \n",
       "149846            1        16      False  59.861226  30.166544         111.0   \n",
       "689932            1        11      False  59.961808  30.417959         105.0   \n",
       "455840            1        32      False  59.916693  30.293292          66.0   \n",
       "562500            1        32       True  59.918182  30.300352          66.0   \n",
       "\n",
       "        reason         status   type_of                          url  \n",
       "id                                                                    \n",
       "699906     210  Получен ответ  building  /facilities/92194/problems/  \n",
       "149846      26      Отклонено  building                          NaN  \n",
       "689932      35  Получен ответ  building                          NaN  \n",
       "455840     119  Получен ответ  building                          NaN  \n",
       "562500     189  Получен ответ  building  /facilities/57528/problems/  "
      ]
     },
     "execution_count": 79,
     "metadata": {},
     "output_type": "execute_result"
    }
   ],
   "source": [
    "df.head()"
   ]
  },
  {
   "cell_type": "code",
   "execution_count": 80,
   "metadata": {},
   "outputs": [],
   "source": [
    "\n",
    "def transform(df):\n",
    "    def fill_none(df, def_value=0, columns=['building', 'municipality']):\n",
    "        df = df.fillna(dict((el, def_value) for el in columns))\n",
    "        return df\n",
    "\n",
    "    for c in ['is_public','status']:\n",
    "        df[c] = df[c].astype('category')\n",
    "\n",
    "    status = dict( enumerate(df['status'].cat.categories) )\n",
    "    df[['is_public','status']] = df[['is_public','status']].apply(lambda x: x.cat.codes)\n",
    "    df=fill_none(df)\n",
    "    return df,status\n",
    "\n",
    "df,status=transform(df)\n"
   ]
  },
  {
   "cell_type": "code",
   "execution_count": 109,
   "metadata": {},
   "outputs": [],
   "source": [
    "features=['is_public','building','category','city_object','district','municipality','reason','latitude','longitude']  \n",
    "\n",
    "X = df[features]\n",
    "y = df['status']\n",
    "\n",
    "X_train, X_test, y_train, y_test = train_test_split(X, y, test_size=.3, random_state=42)\n"
   ]
  },
  {
   "cell_type": "code",
   "execution_count": 110,
   "metadata": {},
   "outputs": [
    {
     "data": {
      "text/html": [
       "<div>\n",
       "<style>\n",
       "    .dataframe thead tr:only-child th {\n",
       "        text-align: right;\n",
       "    }\n",
       "\n",
       "    .dataframe thead th {\n",
       "        text-align: left;\n",
       "    }\n",
       "\n",
       "    .dataframe tbody tr th {\n",
       "        vertical-align: top;\n",
       "    }\n",
       "</style>\n",
       "<table border=\"1\" class=\"dataframe\">\n",
       "  <thead>\n",
       "    <tr style=\"text-align: right;\">\n",
       "      <th></th>\n",
       "      <th>is_public</th>\n",
       "      <th>building</th>\n",
       "      <th>category</th>\n",
       "      <th>city_object</th>\n",
       "      <th>district</th>\n",
       "      <th>municipality</th>\n",
       "      <th>reason</th>\n",
       "      <th>latitude</th>\n",
       "      <th>longitude</th>\n",
       "    </tr>\n",
       "    <tr>\n",
       "      <th>id</th>\n",
       "      <th></th>\n",
       "      <th></th>\n",
       "      <th></th>\n",
       "      <th></th>\n",
       "      <th></th>\n",
       "      <th></th>\n",
       "      <th></th>\n",
       "      <th></th>\n",
       "      <th></th>\n",
       "    </tr>\n",
       "  </thead>\n",
       "  <tbody>\n",
       "    <tr>\n",
       "      <th>699906</th>\n",
       "      <td>1</td>\n",
       "      <td>92194.0</td>\n",
       "      <td>19</td>\n",
       "      <td>1</td>\n",
       "      <td>35</td>\n",
       "      <td>160.0</td>\n",
       "      <td>210</td>\n",
       "      <td>59.720988</td>\n",
       "      <td>30.415632</td>\n",
       "    </tr>\n",
       "    <tr>\n",
       "      <th>149846</th>\n",
       "      <td>0</td>\n",
       "      <td>139731.0</td>\n",
       "      <td>8</td>\n",
       "      <td>1</td>\n",
       "      <td>16</td>\n",
       "      <td>111.0</td>\n",
       "      <td>26</td>\n",
       "      <td>59.861226</td>\n",
       "      <td>30.166544</td>\n",
       "    </tr>\n",
       "    <tr>\n",
       "      <th>689932</th>\n",
       "      <td>0</td>\n",
       "      <td>76648.0</td>\n",
       "      <td>10</td>\n",
       "      <td>1</td>\n",
       "      <td>11</td>\n",
       "      <td>105.0</td>\n",
       "      <td>35</td>\n",
       "      <td>59.961808</td>\n",
       "      <td>30.417959</td>\n",
       "    </tr>\n",
       "    <tr>\n",
       "      <th>455840</th>\n",
       "      <td>0</td>\n",
       "      <td>84097.0</td>\n",
       "      <td>10</td>\n",
       "      <td>1</td>\n",
       "      <td>32</td>\n",
       "      <td>66.0</td>\n",
       "      <td>119</td>\n",
       "      <td>59.916693</td>\n",
       "      <td>30.293292</td>\n",
       "    </tr>\n",
       "    <tr>\n",
       "      <th>562500</th>\n",
       "      <td>1</td>\n",
       "      <td>57528.0</td>\n",
       "      <td>10</td>\n",
       "      <td>1</td>\n",
       "      <td>32</td>\n",
       "      <td>66.0</td>\n",
       "      <td>189</td>\n",
       "      <td>59.918182</td>\n",
       "      <td>30.300352</td>\n",
       "    </tr>\n",
       "  </tbody>\n",
       "</table>\n",
       "</div>"
      ],
      "text/plain": [
       "        is_public  building  category  city_object  district  municipality  \\\n",
       "id                                                                           \n",
       "699906          1   92194.0        19            1        35         160.0   \n",
       "149846          0  139731.0         8            1        16         111.0   \n",
       "689932          0   76648.0        10            1        11         105.0   \n",
       "455840          0   84097.0        10            1        32          66.0   \n",
       "562500          1   57528.0        10            1        32          66.0   \n",
       "\n",
       "        reason   latitude  longitude  \n",
       "id                                    \n",
       "699906     210  59.720988  30.415632  \n",
       "149846      26  59.861226  30.166544  \n",
       "689932      35  59.961808  30.417959  \n",
       "455840     119  59.916693  30.293292  \n",
       "562500     189  59.918182  30.300352  "
      ]
     },
     "execution_count": 110,
     "metadata": {},
     "output_type": "execute_result"
    }
   ],
   "source": [
    "X.head()"
   ]
  },
  {
   "cell_type": "code",
   "execution_count": 111,
   "metadata": {},
   "outputs": [],
   "source": [
    "param_grid = { \n",
    "    'n_estimators': [10,100],\n",
    "    'max_depth':[10,100] \n",
    "}\n",
    "\n",
    "CV_rfc = GridSearchCV(estimator=RandomForestClassifier(criterion='entropy', random_state=42,n_jobs=-1), param_grid=param_grid, cv=5,n_jobs=-1)\n"
   ]
  },
  {
   "cell_type": "code",
   "execution_count": 112,
   "metadata": {},
   "outputs": [
    {
     "name": "stdout",
     "output_type": "stream",
     "text": [
      "Wall time: 0 ns\n"
     ]
    },
    {
     "name": "stderr",
     "output_type": "stream",
     "text": [
      "C:\\tools\\anaconda\\lib\\site-packages\\sklearn\\model_selection\\_split.py:605: Warning: The least populated class in y has only 1 members, which is too few. The minimum number of members in any class cannot be less than n_splits=5.\n",
      "  % (min_groups, self.n_splits)), Warning)\n"
     ]
    },
    {
     "data": {
      "text/plain": [
       "GridSearchCV(cv=5, error_score='raise',\n",
       "       estimator=RandomForestClassifier(bootstrap=True, class_weight=None, criterion='entropy',\n",
       "            max_depth=None, max_features='auto', max_leaf_nodes=None,\n",
       "            min_impurity_decrease=0.0, min_impurity_split=None,\n",
       "            min_samples_leaf=1, min_samples_split=2,\n",
       "            min_weight_fraction_leaf=0.0, n_estimators=10, n_jobs=-1,\n",
       "            oob_score=False, random_state=42, verbose=0, warm_start=False),\n",
       "       fit_params=None, iid=True, n_jobs=-1,\n",
       "       param_grid={'n_estimators': [10, 100], 'max_depth': [10, 100]},\n",
       "       pre_dispatch='2*n_jobs', refit=True, return_train_score='warn',\n",
       "       scoring=None, verbose=0)"
      ]
     },
     "execution_count": 112,
     "metadata": {},
     "output_type": "execute_result"
    }
   ],
   "source": [
    "%time\n",
    "CV_rfc.fit(X_train,y_train)"
   ]
  },
  {
   "cell_type": "code",
   "execution_count": 96,
   "metadata": {},
   "outputs": [
    {
     "data": {
      "text/plain": [
       "{0: 'Модерация',\n",
       " 1: 'Не удовлетворён',\n",
       " 2: 'Отклонено',\n",
       " 3: 'Получен ответ',\n",
       " 4: 'Промежуточный ответ',\n",
       " 5: 'Рассмотрение'}"
      ]
     },
     "execution_count": 96,
     "metadata": {},
     "output_type": "execute_result"
    }
   ],
   "source": [
    "status"
   ]
  },
  {
   "cell_type": "code",
   "execution_count": 113,
   "metadata": {},
   "outputs": [
    {
     "name": "stdout",
     "output_type": "stream",
     "text": [
      "             precision    recall  f1-score   support\n",
      "\n",
      "          0       0.00      0.00      0.00        19\n",
      "          2       0.67      0.38      0.48      1628\n",
      "          3       0.82      0.97      0.89      9586\n",
      "          4       0.55      0.07      0.12       718\n",
      "          5       0.67      0.02      0.03       350\n",
      "\n",
      "avg / total       0.78      0.81      0.77     12301\n",
      "\n"
     ]
    },
    {
     "name": "stderr",
     "output_type": "stream",
     "text": [
      "C:\\tools\\anaconda\\lib\\site-packages\\sklearn\\metrics\\classification.py:1135: UndefinedMetricWarning: Precision and F-score are ill-defined and being set to 0.0 in labels with no predicted samples.\n",
      "  'precision', 'predicted', average, warn_for)\n"
     ]
    }
   ],
   "source": [
    "print(classification_report(y_test, CV_rfc.best_estimator_.predict(X_test)))"
   ]
  },
  {
   "cell_type": "code",
   "execution_count": 114,
   "metadata": {},
   "outputs": [
    {
     "data": {
      "text/plain": [
       "[(0.25989751382712345, 'is_public'),\n",
       " (0.0753534055083335, 'building'),\n",
       " (0.11844441449514796, 'category'),\n",
       " (0.07861404739423979, 'city_object'),\n",
       " (0.03669725033608562, 'district'),\n",
       " (0.06778650335529969, 'municipality'),\n",
       " (0.19418320645277973, 'reason'),\n",
       " (0.08682835935856109, 'latitude'),\n",
       " (0.08219529927242927, 'longitude')]"
      ]
     },
     "execution_count": 114,
     "metadata": {},
     "output_type": "execute_result"
    }
   ],
   "source": [
    "list(zip(CV_rfc.best_estimator_.feature_importances_.tolist(),X.columns))"
   ]
  },
  {
   "cell_type": "markdown",
   "metadata": {},
   "source": [
    "------"
   ]
  },
  {
   "cell_type": "code",
   "execution_count": 94,
   "metadata": {},
   "outputs": [],
   "source": [
    "from ipywidgets import interact\n",
    "from IPython.display import display\n",
    "import ipywidgets as widgets\n",
    "import json\n"
   ]
  },
  {
   "cell_type": "code",
   "execution_count": 98,
   "metadata": {},
   "outputs": [],
   "source": [
    "val='''{\n",
    "   \"id\":833143,\n",
    "   \"is_public\":1,\n",
    "   \"status_name\":\"Рассмотрение\",\n",
    "   \"latitude\":\"59.9727955\",\n",
    "   \"longitude\":\"30.3402690\",\n",
    "   \"full_address\":\"г.Санкт-Петербург, Большой Сампсониевский проспект, дом 59, литера А\",\n",
    "   \"building\":19485,\n",
    "   \"district\":36,\n",
    "   \"municipality\":14,\n",
    "   \"reason\":210,\n",
    "   \"category\":19,\n",
    "   \"city_object\":1\n",
    "}'''\n",
    "new=pd.DataFrame().append(json.loads(val),ignore_index=True)"
   ]
  },
  {
   "cell_type": "code",
   "execution_count": 103,
   "metadata": {},
   "outputs": [
    {
     "data": {
      "text/plain": [
       "[3]"
      ]
     },
     "execution_count": 103,
     "metadata": {},
     "output_type": "execute_result"
    }
   ],
   "source": [
    "CV_rfc.best_estimator_.predict(new[features]).tolist()"
   ]
  },
  {
   "cell_type": "code",
   "execution_count": 106,
   "metadata": {},
   "outputs": [
    {
     "data": {
      "text/plain": [
       "[(0.0, 'Модерация'),\n",
       " (0.0, 'Не удовлетворён'),\n",
       " (0.01552040808700545, 'Отклонено'),\n",
       " (0.7858753072512391, 'Получен ответ'),\n",
       " (0.1602507492580307, 'Промежуточный ответ'),\n",
       " (0.038353535403724666, 'Рассмотрение')]"
      ]
     },
     "execution_count": 106,
     "metadata": {},
     "output_type": "execute_result"
    }
   ],
   "source": [
    "list(zip(CV_rfc.best_estimator_.predict_proba(new[features])[0].tolist(),status.values() ))"
   ]
  }
 ],
 "metadata": {
  "hide_input": false,
  "kernelspec": {
   "display_name": "Python 3",
   "language": "python",
   "name": "python3"
  },
  "language_info": {
   "codemirror_mode": {
    "name": "ipython",
    "version": 3
   },
   "file_extension": ".py",
   "mimetype": "text/x-python",
   "name": "python",
   "nbconvert_exporter": "python",
   "pygments_lexer": "ipython3",
   "version": "3.6.1"
  }
 },
 "nbformat": 4,
 "nbformat_minor": 2
}
