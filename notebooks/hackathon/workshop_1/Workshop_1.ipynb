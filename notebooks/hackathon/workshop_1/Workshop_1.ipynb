{
 "cells": [
  {
   "cell_type": "markdown",
   "metadata": {},
   "source": [
    "# Граббинг данных из различных источников. создание сырых данных"
   ]
  },
  {
   "cell_type": "markdown",
   "metadata": {},
   "source": [
    "## Портал «Наш Санкт-Петербург»\n",
    "Портал создан по инициативе Губернатора Санкт-Петербурга Г.С.Полтавченко для оперативного взаимодействия жителей города с представителями органов власти Санкт-Петербурга.\n",
    "<br>\n",
    "<img src='../../../img/workshop_1/spb_portal.jpg' width=\"75%\"/>\n",
    "<br>\n",
    "## Пример обращения\n",
    "<img src='../../../img/workshop_1/event_example.jpg' width=\"75%\"/>\n",
    "<br>\n",
    "\n",
    "## Карта событий \n",
    "<img src='../../../img/workshop_1/spb_event_map.jpg' width=\"75%\"/>"
   ]
  },
  {
   "cell_type": "markdown",
   "metadata": {},
   "source": [
    "По-профилировав немного трафик находим интересные эндпоинты:\n",
    "- http://gorod.gov.spb.ru/public_api/v2/stats/problems/\n",
    "- http://gorod.gov.spb.ru/public_api/v2/stats/classifier/\n",
    "\n",
    "Напишем небольшой скрипт по скачиванию и сохранению данных с этих url."
   ]
  },
  {
   "cell_type": "code",
   "execution_count": 1,
   "metadata": {},
   "outputs": [],
   "source": [
    "from grabber import JsonGrabber, ProblemsGrabber\n",
    "import transformators\n",
    "import pandas as pd\n",
    "import numpy as np\n",
    "import os\n",
    "\n",
    "from contextlib import contextmanager\n",
    "from IPython.display import HTML, display\n",
    "import json\n",
    "import tabulate\n",
    "\n",
    "\n",
    "from sklearn.base import BaseEstimator\n",
    "from sklearn.pipeline import Pipeline\n",
    "from sklearn.preprocessing import LabelEncoder\n",
    "\n",
    "DATA_FOLDER = os.path.join('..','..','..', 'data', 'workshop_1')\n",
    "json_grabber=JsonGrabber(DATA_FOLDER)"
   ]
  },
  {
   "cell_type": "code",
   "execution_count": 2,
   "metadata": {},
   "outputs": [],
   "source": [
    "pr=json_grabber.get_problems()\n",
    "types = json_grabber.get_types() "
   ]
  },
  {
   "cell_type": "markdown",
   "metadata": {},
   "source": [
    "### Пример того как выглядат полученные данные.\n",
    "**с classifier рест ендпоинта**"
   ]
  },
  {
   "cell_type": "code",
   "execution_count": 3,
   "metadata": {
    "scrolled": true
   },
   "outputs": [
    {
     "name": "stdout",
     "output_type": "stream",
     "text": [
      "{\n",
      "    \"id\": 18,\n",
      "    \"name\": \"Бюджетное учреждение\",\n",
      "    \"is_public\": true,\n",
      "    \"categories\": [\n",
      "        {\n",
      "            \"id\": 50,\n",
      "            \"name\": \"Нарушения в бюджетных образовательных  учреждениях\",\n",
      "            \"is_public\": true,\n",
      "            \"reasons\": [\n",
      "                {\n",
      "                    \"id\": 160,\n",
      "                    \"name\": \"Отсутствие справочной информации на информационных стендах учреждений\",\n",
      "                    \"is_public\": true\n",
      "                },\n",
      "                {\n",
      "                    \"id\": 159,\n",
      "                    \"name\": \"Неудовлетворительное санитарное состояние помещений учреждения\",\n",
      "                    \"is_public\": true\n",
      "                }\n",
      "            ]\n",
      "        },\n",
      "        {\n",
      "            \"id\": 49,\n",
      "            \"name\": \"Нарушения в бюджетных учреждениях здравоохранения\",\n",
      "            \"is_public\": true,\n",
      "            \"reasons\": [\n",
      "                {\n",
      "                    \"id\": 158,\n",
      "                    \"name\": \"Отсутствие справочной информации на информационных стендах учреждений\",\n",
      "                    \"is_public\": true\n",
      "                },\n",
      "                {\n",
      "                    \"id\": 157,\n",
      "                    \"name\": \"Неудовлетворительное санитарное состояние в помещениях учреждения\",\n",
      "                    \"is_public\": true\n",
      "                },\n",
      "                {\n",
      "                    \"id\": 222,\n",
      "                    \"name\": \"Отсутствие технической возможности записи к врачу в интернете (через портал «Государственные и муниципальные услуги (функции) в Санкт-Петербурге» и портал записи к врачу Комитета по здравоохранению\\\")\",\n",
      "                    \"is_public\": true\n",
      "                },\n",
      "                {\n",
      "                    \"id\": 223,\n",
      "                    \"name\": \"Отсутствие технической возможности записи к врачу по телефону «колл-центра»\",\n",
      "                    \"is_public\": true\n",
      "                },\n",
      "                {\n",
      "                    \"id\": 224,\n",
      "                    \"name\": \"Неработающий инфомат самозаписи к врачу\",\n",
      "                    \"is_public\": true\n",
      "                },\n",
      "                {\n",
      "                    \"id\": 225,\n",
      "                    \"name\": \"Отсутствие сестринского поста в стационарном лечебном учреждении\",\n",
      "                    \"is_public\": true\n",
      "                },\n",
      "                {\n",
      "                    \"id\": 226,\n",
      "                    \"name\": \"Отсутствие кабинета неотложной помощи в амбулаторно-поликлиническом учреждении\",\n",
      "                    \"is_public\": true\n",
      "                },\n",
      "                {\n",
      "                    \"id\": 227,\n",
      "                    \"name\": \"Отсутствие бесплатных бахил в поликлинике для посещения кабинетов, где это предусмотрено санитарными правилами\",\n",
      "                    \"is_public\": true\n",
      "                },\n",
      "                {\n",
      "                    \"id\": 228,\n",
      "                    \"name\": \"Неисправность/недоступность существующих объектов инфраструктуры для маломобильных граждан в учреждениях здравоохранения\",\n",
      "                    \"is_public\": true\n",
      "                },\n",
      "                {\n",
      "                    \"id\": 229,\n",
      "                    \"name\": \"Ожидание приема (записи) в регистратуре амбулаторно-поликлинического учреждения более 15 минут\",\n",
      "                    \"is_public\": true\n",
      "                }\n",
      "            ]\n",
      "        },\n",
      "        {\n",
      "            \"id\": 48,\n",
      "            \"name\": \"Нарушения в бюджетных учреждениях культуры\",\n",
      "            \"is_public\": true,\n",
      "            \"reasons\": [\n",
      "                {\n",
      "                    \"id\": 156,\n",
      "                    \"name\": \"Неудовлетворительное санитарное состояние в помещениях учреждений культуры\",\n",
      "                    \"is_public\": true\n",
      "                },\n",
      "                {\n",
      "                    \"id\": 155,\n",
      "                    \"name\": \"Отсутствие справочной информации на информационных стендах учреждений\",\n",
      "                    \"is_public\": true\n",
      "                }\n",
      "            ]\n",
      "        },\n",
      "        {\n",
      "            \"id\": 51,\n",
      "            \"name\": \"Нарушения в бюджетных учреждениях социальной защиты населения\",\n",
      "            \"is_public\": true,\n",
      "            \"reasons\": [\n",
      "                {\n",
      "                    \"id\": 162,\n",
      "                    \"name\": \"Неудовлетворительное санитарное состояние в помещениях учреждения\",\n",
      "                    \"is_public\": true\n",
      "                },\n",
      "                {\n",
      "                    \"id\": 161,\n",
      "                    \"name\": \"Отсутствие справочной информации на информационных стендах учреждений\",\n",
      "                    \"is_public\": true\n",
      "                }\n",
      "            ]\n",
      "        },\n",
      "        {\n",
      "            \"id\": 52,\n",
      "            \"name\": \"Нарушения в бюджетных учреждениях сферы занятости \",\n",
      "            \"is_public\": true,\n",
      "            \"reasons\": [\n",
      "                {\n",
      "                    \"id\": 164,\n",
      "                    \"name\": \"Отсутствие справочной информации на информационных стендах учреждений\",\n",
      "                    \"is_public\": true\n",
      "                },\n",
      "                {\n",
      "                    \"id\": 163,\n",
      "                    \"name\": \"Неудовлетворительное санитарное состояние в помещениях учреждения\",\n",
      "                    \"is_public\": true\n",
      "                }\n",
      "            ]\n",
      "        }\n",
      "    ]\n",
      "}\n"
     ]
    }
   ],
   "source": [
    "print(json.dumps(types[0], indent=4, sort_keys=False,ensure_ascii=False))"
   ]
  },
  {
   "cell_type": "markdown",
   "metadata": {},
   "source": [
    "**c problems рест ендпоинта**"
   ]
  },
  {
   "cell_type": "code",
   "execution_count": 4,
   "metadata": {},
   "outputs": [
    {
     "name": "stdout",
     "output_type": "stream",
     "text": [
      "{\n",
      "    \"longitude\": \"30.3204382\",\n",
      "    \"category\": 10,\n",
      "    \"address\": \"г.Санкт-Петербург, улица Профессора Попова, дом 2, литера Б\",\n",
      "    \"city_object\": 1,\n",
      "    \"type_of\": \"building\",\n",
      "    \"is_public\": false,\n",
      "    \"district\": 7,\n",
      "    \"url\": null,\n",
      "    \"id\": 824292,\n",
      "    \"municipality\": 146,\n",
      "    \"status\": \"Модерация\",\n",
      "    \"reason\": 35,\n",
      "    \"building\": 66093,\n",
      "    \"latitude\": \"59.9707241\"\n",
      "}\n"
     ]
    }
   ],
   "source": [
    "print(json.dumps(pr[0], indent=4, sort_keys=False,ensure_ascii=False))\n",
    "del pr"
   ]
  },
  {
   "cell_type": "code",
   "execution_count": 5,
   "metadata": {},
   "outputs": [],
   "source": [
    "columns = ['id', 'name', 'is_public']\n",
    "city_objects= pd.DataFrame(columns=columns)\n",
    "categories = pd.DataFrame(columns=columns)\n",
    "reasons = pd.DataFrame(columns=columns)\n",
    "\n",
    "def get_dic(record):\n",
    "    return {'id':record['id'],'name':record['name'],'is_public': int(record['is_public'])}\n",
    "\n",
    "def append_record(df, f_get_dic, record):\n",
    "    return df.append([f_get_dic(record)],ignore_index=False)\n",
    "\n",
    "for k in types:\n",
    "    city_objects = append_record(city_objects,get_dic,k)\n",
    "    for cat in k['categories']:\n",
    "        categories = append_record(categories,get_dic,cat)\n",
    "        for reason in cat['reasons']:\n",
    "            reasons = append_record(reasons,get_dic,reason)\n",
    "\n",
    "def set_index(df):\n",
    "    df=df.set_index('id')\n",
    "    df=df.sort_index()\n",
    "    df[['is_public']] = df[['is_public']].astype(int)\n",
    "    return df\n",
    "    \n",
    "city_objects = set_index(city_objects)\n",
    "categories = set_index(categories)\n",
    "reasons = set_index(reasons)"
   ]
  },
  {
   "cell_type": "code",
   "execution_count": 6,
   "metadata": {},
   "outputs": [],
   "source": [
    "def show_df(df):\n",
    "    display(df.info())\n",
    "    display(df.head())\n",
    "\n",
    "def resolve_path(*path):\n",
    "    return os.path.join(DATA_FOLDER,*path)"
   ]
  },
  {
   "cell_type": "code",
   "execution_count": 7,
   "metadata": {},
   "outputs": [
    {
     "name": "stdout",
     "output_type": "stream",
     "text": [
      "<class 'pandas.core.frame.DataFrame'>\n",
      "Int64Index: 19 entries, 1 to 20\n",
      "Data columns (total 2 columns):\n",
      "name         19 non-null object\n",
      "is_public    19 non-null int32\n",
      "dtypes: int32(1), object(1)\n",
      "memory usage: 380.0+ bytes\n"
     ]
    },
    {
     "data": {
      "text/plain": [
       "None"
      ]
     },
     "metadata": {},
     "output_type": "display_data"
    },
    {
     "data": {
      "text/html": [
       "<div>\n",
       "<style>\n",
       "    .dataframe thead tr:only-child th {\n",
       "        text-align: right;\n",
       "    }\n",
       "\n",
       "    .dataframe thead th {\n",
       "        text-align: left;\n",
       "    }\n",
       "\n",
       "    .dataframe tbody tr th {\n",
       "        vertical-align: top;\n",
       "    }\n",
       "</style>\n",
       "<table border=\"1\" class=\"dataframe\">\n",
       "  <thead>\n",
       "    <tr style=\"text-align: right;\">\n",
       "      <th></th>\n",
       "      <th>name</th>\n",
       "      <th>is_public</th>\n",
       "    </tr>\n",
       "    <tr>\n",
       "      <th>id</th>\n",
       "      <th></th>\n",
       "      <th></th>\n",
       "    </tr>\n",
       "  </thead>\n",
       "  <tbody>\n",
       "    <tr>\n",
       "      <th>1</th>\n",
       "      <td>Дом</td>\n",
       "      <td>1</td>\n",
       "    </tr>\n",
       "    <tr>\n",
       "      <th>2</th>\n",
       "      <td>Двор</td>\n",
       "      <td>1</td>\n",
       "    </tr>\n",
       "    <tr>\n",
       "      <th>3</th>\n",
       "      <td>Улица</td>\n",
       "      <td>1</td>\n",
       "    </tr>\n",
       "    <tr>\n",
       "      <th>4</th>\n",
       "      <td>Парк, сад, бульвар, сквер</td>\n",
       "      <td>1</td>\n",
       "    </tr>\n",
       "    <tr>\n",
       "      <th>5</th>\n",
       "      <td>Квартира</td>\n",
       "      <td>1</td>\n",
       "    </tr>\n",
       "  </tbody>\n",
       "</table>\n",
       "</div>"
      ],
      "text/plain": [
       "                         name  is_public\n",
       "id                                      \n",
       "1                         Дом          1\n",
       "2                        Двор          1\n",
       "3                       Улица          1\n",
       "4   Парк, сад, бульвар, сквер          1\n",
       "5                    Квартира          1"
      ]
     },
     "metadata": {},
     "output_type": "display_data"
    }
   ],
   "source": [
    "show_df(city_objects)"
   ]
  },
  {
   "cell_type": "code",
   "execution_count": 8,
   "metadata": {},
   "outputs": [
    {
     "name": "stdout",
     "output_type": "stream",
     "text": [
      "<class 'pandas.core.frame.DataFrame'>\n",
      "Int64Index: 62 entries, 1 to 66\n",
      "Data columns (total 2 columns):\n",
      "name         62 non-null object\n",
      "is_public    62 non-null int32\n",
      "dtypes: int32(1), object(1)\n",
      "memory usage: 1.2+ KB\n"
     ]
    },
    {
     "data": {
      "text/plain": [
       "None"
      ]
     },
     "metadata": {},
     "output_type": "display_data"
    },
    {
     "data": {
      "text/html": [
       "<div>\n",
       "<style>\n",
       "    .dataframe thead tr:only-child th {\n",
       "        text-align: right;\n",
       "    }\n",
       "\n",
       "    .dataframe thead th {\n",
       "        text-align: left;\n",
       "    }\n",
       "\n",
       "    .dataframe tbody tr th {\n",
       "        vertical-align: top;\n",
       "    }\n",
       "</style>\n",
       "<table border=\"1\" class=\"dataframe\">\n",
       "  <thead>\n",
       "    <tr style=\"text-align: right;\">\n",
       "      <th></th>\n",
       "      <th>name</th>\n",
       "      <th>is_public</th>\n",
       "    </tr>\n",
       "    <tr>\n",
       "      <th>id</th>\n",
       "      <th></th>\n",
       "      <th></th>\n",
       "    </tr>\n",
       "  </thead>\n",
       "  <tbody>\n",
       "    <tr>\n",
       "      <th>1</th>\n",
       "      <td>Центральное отопление</td>\n",
       "      <td>1</td>\n",
       "    </tr>\n",
       "    <tr>\n",
       "      <th>2</th>\n",
       "      <td>Благоустройство</td>\n",
       "      <td>1</td>\n",
       "    </tr>\n",
       "    <tr>\n",
       "      <th>3</th>\n",
       "      <td>Благоустройство</td>\n",
       "      <td>1</td>\n",
       "    </tr>\n",
       "    <tr>\n",
       "      <th>4</th>\n",
       "      <td>Содержание МКД</td>\n",
       "      <td>1</td>\n",
       "    </tr>\n",
       "    <tr>\n",
       "      <th>5</th>\n",
       "      <td>Санитарное состояние</td>\n",
       "      <td>0</td>\n",
       "    </tr>\n",
       "  </tbody>\n",
       "</table>\n",
       "</div>"
      ],
      "text/plain": [
       "                     name  is_public\n",
       "id                                  \n",
       "1   Центральное отопление          1\n",
       "2         Благоустройство          1\n",
       "3         Благоустройство          1\n",
       "4          Содержание МКД          1\n",
       "5    Санитарное состояние          0"
      ]
     },
     "metadata": {},
     "output_type": "display_data"
    }
   ],
   "source": [
    "show_df(categories)"
   ]
  },
  {
   "cell_type": "code",
   "execution_count": 9,
   "metadata": {},
   "outputs": [
    {
     "name": "stdout",
     "output_type": "stream",
     "text": [
      "<class 'pandas.core.frame.DataFrame'>\n",
      "Int64Index: 253 entries, 1 to 257\n",
      "Data columns (total 2 columns):\n",
      "name         253 non-null object\n",
      "is_public    253 non-null int32\n",
      "dtypes: int32(1), object(1)\n",
      "memory usage: 4.9+ KB\n"
     ]
    },
    {
     "data": {
      "text/plain": [
       "None"
      ]
     },
     "metadata": {},
     "output_type": "display_data"
    },
    {
     "data": {
      "text/html": [
       "<div>\n",
       "<style>\n",
       "    .dataframe thead tr:only-child th {\n",
       "        text-align: right;\n",
       "    }\n",
       "\n",
       "    .dataframe thead th {\n",
       "        text-align: left;\n",
       "    }\n",
       "\n",
       "    .dataframe tbody tr th {\n",
       "        vertical-align: top;\n",
       "    }\n",
       "</style>\n",
       "<table border=\"1\" class=\"dataframe\">\n",
       "  <thead>\n",
       "    <tr style=\"text-align: right;\">\n",
       "      <th></th>\n",
       "      <th>name</th>\n",
       "      <th>is_public</th>\n",
       "    </tr>\n",
       "    <tr>\n",
       "      <th>id</th>\n",
       "      <th></th>\n",
       "      <th></th>\n",
       "    </tr>\n",
       "  </thead>\n",
       "  <tbody>\n",
       "    <tr>\n",
       "      <th>1</th>\n",
       "      <td>Нарушено благоустройство после работы бригад</td>\n",
       "      <td>0</td>\n",
       "    </tr>\n",
       "    <tr>\n",
       "      <th>2</th>\n",
       "      <td>Низкая температура на лестничной площадке</td>\n",
       "      <td>1</td>\n",
       "    </tr>\n",
       "    <tr>\n",
       "      <th>3</th>\n",
       "      <td>Нарушение благоустройства после производства з...</td>\n",
       "      <td>1</td>\n",
       "    </tr>\n",
       "    <tr>\n",
       "      <th>4</th>\n",
       "      <td>Постоянное скопление безнадзорных животных</td>\n",
       "      <td>0</td>\n",
       "    </tr>\n",
       "    <tr>\n",
       "      <th>5</th>\n",
       "      <td>Мусор с контейнерной площадки своевременно не ...</td>\n",
       "      <td>0</td>\n",
       "    </tr>\n",
       "  </tbody>\n",
       "</table>\n",
       "</div>"
      ],
      "text/plain": [
       "                                                 name  is_public\n",
       "id                                                              \n",
       "1        Нарушено благоустройство после работы бригад          0\n",
       "2           Низкая температура на лестничной площадке          1\n",
       "3   Нарушение благоустройства после производства з...          1\n",
       "4          Постоянное скопление безнадзорных животных          0\n",
       "5   Мусор с контейнерной площадки своевременно не ...          0"
      ]
     },
     "metadata": {},
     "output_type": "display_data"
    }
   ],
   "source": [
    "show_df(reasons)"
   ]
  },
  {
   "cell_type": "code",
   "execution_count": 10,
   "metadata": {},
   "outputs": [],
   "source": [
    "city_objects.to_csv(resolve_path('csv','city_objects.csv'),index=True,encoding='utf-8')\n",
    "categories.to_csv(resolve_path('csv','categories.csv'),index=True,encoding='utf-8')\n",
    "reasons.to_csv(resolve_path('csv','reasons.csv'),index=True,encoding='utf-8')"
   ]
  },
  {
   "cell_type": "code",
   "execution_count": 11,
   "metadata": {},
   "outputs": [],
   "source": [
    "problems=pd.read_json(resolve_path('json_sources','problems.json'),encoding='utf-8')\n",
    "problems=problems.set_index('id')"
   ]
  },
  {
   "cell_type": "code",
   "execution_count": 12,
   "metadata": {},
   "outputs": [
    {
     "name": "stdout",
     "output_type": "stream",
     "text": [
      "<class 'pandas.core.frame.DataFrame'>\n",
      "Int64Index: 820028 entries, 824292 to 822\n",
      "Data columns (total 13 columns):\n",
      "address         566623 non-null object\n",
      "building        566623 non-null float64\n",
      "category        820028 non-null int64\n",
      "city_object     820028 non-null int64\n",
      "district        820028 non-null int64\n",
      "is_public       820028 non-null bool\n",
      "latitude        820028 non-null float64\n",
      "longitude       820028 non-null float64\n",
      "municipality    781088 non-null float64\n",
      "reason          820028 non-null int64\n",
      "status          820028 non-null object\n",
      "type_of         820028 non-null object\n",
      "url             400102 non-null object\n",
      "dtypes: bool(1), float64(4), int64(4), object(4)\n",
      "memory usage: 82.1+ MB\n"
     ]
    },
    {
     "data": {
      "text/plain": [
       "None"
      ]
     },
     "metadata": {},
     "output_type": "display_data"
    },
    {
     "data": {
      "text/html": [
       "<div>\n",
       "<style>\n",
       "    .dataframe thead tr:only-child th {\n",
       "        text-align: right;\n",
       "    }\n",
       "\n",
       "    .dataframe thead th {\n",
       "        text-align: left;\n",
       "    }\n",
       "\n",
       "    .dataframe tbody tr th {\n",
       "        vertical-align: top;\n",
       "    }\n",
       "</style>\n",
       "<table border=\"1\" class=\"dataframe\">\n",
       "  <thead>\n",
       "    <tr style=\"text-align: right;\">\n",
       "      <th></th>\n",
       "      <th>address</th>\n",
       "      <th>building</th>\n",
       "      <th>category</th>\n",
       "      <th>city_object</th>\n",
       "      <th>district</th>\n",
       "      <th>is_public</th>\n",
       "      <th>latitude</th>\n",
       "      <th>longitude</th>\n",
       "      <th>municipality</th>\n",
       "      <th>reason</th>\n",
       "      <th>status</th>\n",
       "      <th>type_of</th>\n",
       "      <th>url</th>\n",
       "    </tr>\n",
       "    <tr>\n",
       "      <th>id</th>\n",
       "      <th></th>\n",
       "      <th></th>\n",
       "      <th></th>\n",
       "      <th></th>\n",
       "      <th></th>\n",
       "      <th></th>\n",
       "      <th></th>\n",
       "      <th></th>\n",
       "      <th></th>\n",
       "      <th></th>\n",
       "      <th></th>\n",
       "      <th></th>\n",
       "      <th></th>\n",
       "    </tr>\n",
       "  </thead>\n",
       "  <tbody>\n",
       "    <tr>\n",
       "      <th>824292</th>\n",
       "      <td>г.Санкт-Петербург, улица Профессора Попова, до...</td>\n",
       "      <td>66093.0</td>\n",
       "      <td>10</td>\n",
       "      <td>1</td>\n",
       "      <td>7</td>\n",
       "      <td>False</td>\n",
       "      <td>59.970724</td>\n",
       "      <td>30.320438</td>\n",
       "      <td>146.0</td>\n",
       "      <td>35</td>\n",
       "      <td>Модерация</td>\n",
       "      <td>building</td>\n",
       "      <td>None</td>\n",
       "    </tr>\n",
       "    <tr>\n",
       "      <th>824291</th>\n",
       "      <td>None</td>\n",
       "      <td>NaN</td>\n",
       "      <td>3</td>\n",
       "      <td>3</td>\n",
       "      <td>7</td>\n",
       "      <td>False</td>\n",
       "      <td>59.968716</td>\n",
       "      <td>30.308962</td>\n",
       "      <td>146.0</td>\n",
       "      <td>54</td>\n",
       "      <td>Модерация</td>\n",
       "      <td>point</td>\n",
       "      <td>None</td>\n",
       "    </tr>\n",
       "    <tr>\n",
       "      <th>824290</th>\n",
       "      <td>None</td>\n",
       "      <td>NaN</td>\n",
       "      <td>3</td>\n",
       "      <td>3</td>\n",
       "      <td>36</td>\n",
       "      <td>False</td>\n",
       "      <td>60.008748</td>\n",
       "      <td>30.325581</td>\n",
       "      <td>78.0</td>\n",
       "      <td>78</td>\n",
       "      <td>Модерация</td>\n",
       "      <td>point</td>\n",
       "      <td>None</td>\n",
       "    </tr>\n",
       "    <tr>\n",
       "      <th>824289</th>\n",
       "      <td>г.Санкт-Петербург, проспект Культуры, дом 29, ...</td>\n",
       "      <td>96138.0</td>\n",
       "      <td>15</td>\n",
       "      <td>5</td>\n",
       "      <td>10</td>\n",
       "      <td>False</td>\n",
       "      <td>60.049485</td>\n",
       "      <td>30.380597</td>\n",
       "      <td>90.0</td>\n",
       "      <td>48</td>\n",
       "      <td>Рассмотрение</td>\n",
       "      <td>building</td>\n",
       "      <td>None</td>\n",
       "    </tr>\n",
       "    <tr>\n",
       "      <th>824288</th>\n",
       "      <td>г.Санкт-Петербург, бульвар Новаторов, дом 19, ...</td>\n",
       "      <td>91107.0</td>\n",
       "      <td>10</td>\n",
       "      <td>1</td>\n",
       "      <td>15</td>\n",
       "      <td>False</td>\n",
       "      <td>59.849157</td>\n",
       "      <td>30.264467</td>\n",
       "      <td>92.0</td>\n",
       "      <td>35</td>\n",
       "      <td>Рассмотрение</td>\n",
       "      <td>building</td>\n",
       "      <td>None</td>\n",
       "    </tr>\n",
       "  </tbody>\n",
       "</table>\n",
       "</div>"
      ],
      "text/plain": [
       "                                                  address  building  category  \\\n",
       "id                                                                              \n",
       "824292  г.Санкт-Петербург, улица Профессора Попова, до...   66093.0        10   \n",
       "824291                                               None       NaN         3   \n",
       "824290                                               None       NaN         3   \n",
       "824289  г.Санкт-Петербург, проспект Культуры, дом 29, ...   96138.0        15   \n",
       "824288  г.Санкт-Петербург, бульвар Новаторов, дом 19, ...   91107.0        10   \n",
       "\n",
       "        city_object  district  is_public   latitude  longitude  municipality  \\\n",
       "id                                                                             \n",
       "824292            1         7      False  59.970724  30.320438         146.0   \n",
       "824291            3         7      False  59.968716  30.308962         146.0   \n",
       "824290            3        36      False  60.008748  30.325581          78.0   \n",
       "824289            5        10      False  60.049485  30.380597          90.0   \n",
       "824288            1        15      False  59.849157  30.264467          92.0   \n",
       "\n",
       "        reason        status   type_of   url  \n",
       "id                                            \n",
       "824292      35     Модерация  building  None  \n",
       "824291      54     Модерация     point  None  \n",
       "824290      78     Модерация     point  None  \n",
       "824289      48  Рассмотрение  building  None  \n",
       "824288      35  Рассмотрение  building  None  "
      ]
     },
     "metadata": {},
     "output_type": "display_data"
    }
   ],
   "source": [
    "show_df(problems)"
   ]
  },
  {
   "cell_type": "raw",
   "metadata": {},
   "source": [
    "problems.to_csv(resolve_path('csv','problems_source.csv'),index=True,encoding='utf-8')"
   ]
  },
  {
   "cell_type": "markdown",
   "metadata": {},
   "source": [
    "В результате парсинга мы получили справочника:\n",
    "- типы городских объектов\n",
    "- категории обращений\n",
    "- причины обращений\n",
    "\n",
    "и один датасет, собственно сами записи об обращениях граждн."
   ]
  },
  {
   "cell_type": "markdown",
   "metadata": {},
   "source": [
    "# Обработка полученых данных. \n",
    "## Очистка данных, заполнение пропусков, преобразование, генерация новых признаков"
   ]
  },
  {
   "cell_type": "markdown",
   "metadata": {},
   "source": [
    "### Исслдедуем данные. "
   ]
  },
  {
   "cell_type": "code",
   "execution_count": 13,
   "metadata": {},
   "outputs": [
    {
     "data": {
      "text/html": [
       "<div>\n",
       "<style>\n",
       "    .dataframe thead tr:only-child th {\n",
       "        text-align: right;\n",
       "    }\n",
       "\n",
       "    .dataframe thead th {\n",
       "        text-align: left;\n",
       "    }\n",
       "\n",
       "    .dataframe tbody tr th {\n",
       "        vertical-align: top;\n",
       "    }\n",
       "</style>\n",
       "<table border=\"1\" class=\"dataframe\">\n",
       "  <thead>\n",
       "    <tr style=\"text-align: right;\">\n",
       "      <th></th>\n",
       "      <th>address</th>\n",
       "      <th>building</th>\n",
       "      <th>category</th>\n",
       "      <th>city_object</th>\n",
       "      <th>district</th>\n",
       "      <th>is_public</th>\n",
       "      <th>latitude</th>\n",
       "      <th>longitude</th>\n",
       "      <th>municipality</th>\n",
       "      <th>reason</th>\n",
       "      <th>status</th>\n",
       "      <th>type_of</th>\n",
       "      <th>url</th>\n",
       "    </tr>\n",
       "    <tr>\n",
       "      <th>id</th>\n",
       "      <th></th>\n",
       "      <th></th>\n",
       "      <th></th>\n",
       "      <th></th>\n",
       "      <th></th>\n",
       "      <th></th>\n",
       "      <th></th>\n",
       "      <th></th>\n",
       "      <th></th>\n",
       "      <th></th>\n",
       "      <th></th>\n",
       "      <th></th>\n",
       "      <th></th>\n",
       "    </tr>\n",
       "  </thead>\n",
       "  <tbody>\n",
       "    <tr>\n",
       "      <th>826</th>\n",
       "      <td>г.Санкт-Петербург, улица Типанова, дом 12, лит...</td>\n",
       "      <td>83641.0</td>\n",
       "      <td>2</td>\n",
       "      <td>2</td>\n",
       "      <td>14</td>\n",
       "      <td>True</td>\n",
       "      <td>59.851098</td>\n",
       "      <td>30.332273</td>\n",
       "      <td>133.0</td>\n",
       "      <td>8</td>\n",
       "      <td>Получен ответ</td>\n",
       "      <td>building</td>\n",
       "      <td>/facilities/83641/problems/</td>\n",
       "    </tr>\n",
       "    <tr>\n",
       "      <th>824</th>\n",
       "      <td>г.Санкт-Петербург, улица Черняховского, дом 52...</td>\n",
       "      <td>130870.0</td>\n",
       "      <td>5</td>\n",
       "      <td>2</td>\n",
       "      <td>31</td>\n",
       "      <td>True</td>\n",
       "      <td>59.921309</td>\n",
       "      <td>30.359088</td>\n",
       "      <td>175.0</td>\n",
       "      <td>4</td>\n",
       "      <td>Получен ответ</td>\n",
       "      <td>building</td>\n",
       "      <td>/facilities/130870/problems/</td>\n",
       "    </tr>\n",
       "    <tr>\n",
       "      <th>823</th>\n",
       "      <td>г.Санкт-Петербург, Лиговский проспект, дом 56,...</td>\n",
       "      <td>87619.0</td>\n",
       "      <td>17</td>\n",
       "      <td>4</td>\n",
       "      <td>31</td>\n",
       "      <td>False</td>\n",
       "      <td>59.923769</td>\n",
       "      <td>30.360044</td>\n",
       "      <td>175.0</td>\n",
       "      <td>11</td>\n",
       "      <td>Отклонено</td>\n",
       "      <td>building</td>\n",
       "      <td>NaN</td>\n",
       "    </tr>\n",
       "    <tr>\n",
       "      <th>822</th>\n",
       "      <td>NaN</td>\n",
       "      <td>NaN</td>\n",
       "      <td>3</td>\n",
       "      <td>3</td>\n",
       "      <td>6</td>\n",
       "      <td>False</td>\n",
       "      <td>59.951995</td>\n",
       "      <td>30.217189</td>\n",
       "      <td>76.0</td>\n",
       "      <td>15</td>\n",
       "      <td>Отклонено</td>\n",
       "      <td>point</td>\n",
       "      <td>NaN</td>\n",
       "    </tr>\n",
       "  </tbody>\n",
       "</table>\n",
       "</div>"
      ],
      "text/plain": [
       "                                               address  building  category  \\\n",
       "id                                                                           \n",
       "826  г.Санкт-Петербург, улица Типанова, дом 12, лит...   83641.0         2   \n",
       "824  г.Санкт-Петербург, улица Черняховского, дом 52...  130870.0         5   \n",
       "823  г.Санкт-Петербург, Лиговский проспект, дом 56,...   87619.0        17   \n",
       "822                                                NaN       NaN         3   \n",
       "\n",
       "     city_object  district  is_public   latitude  longitude  municipality  \\\n",
       "id                                                                          \n",
       "826            2        14       True  59.851098  30.332273         133.0   \n",
       "824            2        31       True  59.921309  30.359088         175.0   \n",
       "823            4        31      False  59.923769  30.360044         175.0   \n",
       "822            3         6      False  59.951995  30.217189          76.0   \n",
       "\n",
       "     reason         status   type_of                           url  \n",
       "id                                                                  \n",
       "826       8  Получен ответ  building   /facilities/83641/problems/  \n",
       "824       4  Получен ответ  building  /facilities/130870/problems/  \n",
       "823      11      Отклонено  building                           NaN  \n",
       "822      15      Отклонено     point                           NaN  "
      ]
     },
     "metadata": {},
     "output_type": "display_data"
    }
   ],
   "source": [
    "problems=pd.DataFrame.from_csv(resolve_path('csv','problems_source.csv'))\n",
    "display(problems.tail(4))"
   ]
  },
  {
   "cell_type": "code",
   "execution_count": 14,
   "metadata": {
    "scrolled": false
   },
   "outputs": [
    {
     "name": "stdout",
     "output_type": "stream",
     "text": [
      "Клонки содержащие пустые значения:  ['address', 'building', 'municipality', 'url']\n",
      "Всего строк: 820,028\n"
     ]
    },
    {
     "data": {
      "text/html": [
       "<table>\n",
       "<thead>\n",
       "<tr><th>Имя параметра  </th><th style=\"text-align: right;\">  Количество уникальных значений</th><th>Примеры уникальных значений  </th></tr>\n",
       "</thead>\n",
       "<tbody>\n",
       "<tr><td>address        </td><td style=\"text-align: right;\">                           34260</td><td>['г.Санкт-Петербург, улица Профессора Попова, дом 2, литера Б' nan\n",
       " 'г.Санкт-Петербург, проспект Культуры, дом 29, корпус 1, литера А' ...,\n",
       " 'город Петергоф, Князевская улица, дом 22, литера А'\n",
       " 'г.Санкт-Петербург, улица Моисеенко, дом 43'\n",
       " 'город Пушкин, Новодеревенская улица, дом 16, литера А']                                                             </td></tr>\n",
       "<tr><td>building       </td><td style=\"text-align: right;\">                           34356</td><td>[  66093.      nan   96138. ...,  126901.   74841.   54901.]</td></tr>\n",
       "<tr><td>category       </td><td style=\"text-align: right;\">                              62</td><td>[10  3 15 ..., 14 30  6]                                    </td></tr>\n",
       "<tr><td>city_object    </td><td style=\"text-align: right;\">                              19</td><td>[ 1  3  5 ..., 12 16  7]                                    </td></tr>\n",
       "<tr><td>district       </td><td style=\"text-align: right;\">                              18</td><td>[ 7 36 10 ..., 38 32 13]                                    </td></tr>\n",
       "<tr><td>is_public      </td><td style=\"text-align: right;\">                               2</td><td>[False  True]                                               </td></tr>\n",
       "<tr><td>latitude       </td><td style=\"text-align: right;\">                          195824</td><td>[ 59.9707241  59.968716   60.0087482 ...,  59.8510976  59.9213086\n",
       "  59.9519954]                                                             </td></tr>\n",
       "<tr><td>longitude      </td><td style=\"text-align: right;\">                          201030</td><td>[ 30.3204382  30.3089618  30.3255808 ...,  30.359088   30.3600442\n",
       "  30.2171886]                                                             </td></tr>\n",
       "<tr><td>municipality   </td><td style=\"text-align: right;\">                             112</td><td>[ 146.   78.   90. ...,  126.  103.   nan]                  </td></tr>\n",
       "<tr><td>reason         </td><td style=\"text-align: right;\">                             251</td><td>[35 54 78 ..., 21  1 27]                                    </td></tr>\n",
       "<tr><td>status         </td><td style=\"text-align: right;\">                               6</td><td>['Модерация' 'Рассмотрение' 'Отклонено' 'Получен ответ'\n",
       " 'Промежуточный ответ' 'Не удовлетворён']                                                             </td></tr>\n",
       "<tr><td>type_of        </td><td style=\"text-align: right;\">                               2</td><td>['building' 'point']                                        </td></tr>\n",
       "<tr><td>url            </td><td style=\"text-align: right;\">                          212251</td><td>[nan '/problems/824071/' '/problems/823986/' ...,\n",
       " '/facilities/54901/problems/' '/problems/850/'\n",
       " '/facilities/83641/problems/']                                                             </td></tr>\n",
       "</tbody>\n",
       "</table>"
      ],
      "text/plain": [
       "<IPython.core.display.HTML object>"
      ]
     },
     "metadata": {},
     "output_type": "display_data"
    }
   ],
   "source": [
    "@contextmanager\n",
    "def show_complete_array(n=10):\n",
    "    oldoptions = np.get_printoptions()\n",
    "    np.set_printoptions(threshold=n)\n",
    "    yield \n",
    "    np.set_printoptions(**oldoptions)\n",
    "\n",
    "def print_df_inf(df):\n",
    "    table = [(column,len(df[column].unique()),df[column].unique()) for column in df.columns]\n",
    "    print(\"Клонки содержащие пустые значения: \", df.columns[df.isnull().any()].tolist())\n",
    "    print(\"Всего строк: {:,}\".format(len(df)))\n",
    "    with show_complete_array():\n",
    "        display(HTML(tabulate.tabulate(table, tablefmt='html',headers=['Имя параметра','Количество уникальных значений','Примеры уникальных значений'])))\n",
    "\n",
    "\n",
    "print_df_inf(problems)"
   ]
  },
  {
   "cell_type": "markdown",
   "metadata": {},
   "source": [
    "## Что значит что объявление не публичное?"
   ]
  },
  {
   "cell_type": "markdown",
   "metadata": {},
   "source": [
    "<img src='../../../img/workshop_1/not_access.jpg' width=\"75%\" />"
   ]
  },
  {
   "cell_type": "markdown",
   "metadata": {},
   "source": [
    "Для выявления какого то бизнесс велью, данных кажется не совсем достаточно, поищем данные в открытых источниках, для \"обогощения\" заявок с портала. Данные будем искать на портале открытых данных города Санкт-Петербург: http://data.gov.spb.ru."
   ]
  },
  {
   "cell_type": "markdown",
   "metadata": {},
   "source": [
    "Я нашел два дополнительных справочника дынных, который на мой взгляд, могли бы быть полезны в аналезе проблем с портала \"Наш Санкт-Петербург\": \n",
    "\n",
    "|Название данных | источник | название лок. файла| \n",
    "| ---| :--- :| ---: |\n",
    "|Технико-экономические паспорта многоквартирных домов|http://data.gov.spb.ru/opendata/7840013199-passports_houses/|building_info_source.csv|\n",
    "|Место розничной торговли или оказания услуг|http://wiki.openstreetmap.org/wiki/RU:Key:shop| shops.csv|"
   ]
  },
  {
   "cell_type": "markdown",
   "metadata": {},
   "source": [
    "### Технико-экономические паспорта многоквартирных домов\n",
    "Всего параметров 47, из них для нас представляю интерес колонки предоставляющие адрес дома, район к которому отностися дом, год постройки дома, года проведения капитального ремонта, количество этажей в доме и сколько людей проживает в доме(справочная информация)."
   ]
  },
  {
   "cell_type": "code",
   "execution_count": 15,
   "metadata": {},
   "outputs": [
    {
     "name": "stderr",
     "output_type": "stream",
     "text": [
      "C:\\tools\\anaconda\\lib\\site-packages\\IPython\\core\\interactiveshell.py:2717: DtypeWarning: Columns (2) have mixed types. Specify dtype option on import or set low_memory=False.\n",
      "  interactivity=interactivity, compiler=compiler, result=result)\n"
     ]
    }
   ],
   "source": [
    "buildings_info=pd.read_csv(resolve_path('csv','building_info_source.csv'))"
   ]
  },
  {
   "cell_type": "code",
   "execution_count": 16,
   "metadata": {},
   "outputs": [],
   "source": [
    "buildings_info = buildings_info[['addr_street', 'addr_number',\n",
    "       'addr_district', 'data_buildingdate','repair_year','data_storeys', 'data_residents']]"
   ]
  },
  {
   "cell_type": "code",
   "execution_count": 17,
   "metadata": {},
   "outputs": [
    {
     "name": "stdout",
     "output_type": "stream",
     "text": [
      "Клонки содержащие пустые значения:  ['addr_street', 'addr_number', 'addr_district', 'data_buildingdate', 'repair_year', 'data_storeys', 'data_residents']\n",
      "Всего строк: 21,523\n"
     ]
    },
    {
     "data": {
      "text/html": [
       "<table>\n",
       "<thead>\n",
       "<tr><th>Имя параметра    </th><th style=\"text-align: right;\">  Количество уникальных значений</th><th>Примеры уникальных значений  </th></tr>\n",
       "</thead>\n",
       "<tbody>\n",
       "<tr><td>addr_street      </td><td style=\"text-align: right;\">                            1478</td><td>['Миллионная ул.' 'Коллонтай ул.' 'Подвойского ул.' ...,\n",
       " 'г.Сестрорецк, 9-я линия' 'пос.Левашово, Чкалова ул.'\n",
       " 'г.Пушкин, Полковая ул.']                                                                </td></tr>\n",
       "<tr><td>addr_number      </td><td style=\"text-align: right;\">                            1480</td><td>['10' '25' '32' ..., '60 а' '14А' '39/13']                     </td></tr>\n",
       "<tr><td>addr_district    </td><td style=\"text-align: right;\">                              19</td><td>['Центральный' 'Невский' 'Петроградский' ..., 'Курортный'\n",
       " 'Василеостровский' nan]                                                                </td></tr>\n",
       "<tr><td>data_buildingdate</td><td style=\"text-align: right;\">                             355</td><td>['1916' '1975' '1988' ..., '1859-1882' '1798-1858' '1985-1986']</td></tr>\n",
       "<tr><td>repair_year      </td><td style=\"text-align: right;\">                            8326</td><td>['2000; 2011' '2007; 2008; 2016' '2012; 2012' ..., '1991; 1991; 2009'\n",
       " '2002; 2006; 2007; 2011; 2013; 2013; 2013; 2014'\n",
       " '2004; 2012; 2013; 2013; 2016']                                                                </td></tr>\n",
       "<tr><td>data_storeys     </td><td style=\"text-align: right;\">                              29</td><td>[  4.   9.  16. ...,  28.  21.  nan]                           </td></tr>\n",
       "<tr><td>data_residents   </td><td style=\"text-align: right;\">                            1367</td><td>[   48.   355.   286. ...,  1209.  1096.  1863.]               </td></tr>\n",
       "</tbody>\n",
       "</table>"
      ],
      "text/plain": [
       "<IPython.core.display.HTML object>"
      ]
     },
     "metadata": {},
     "output_type": "display_data"
    },
    {
     "data": {
      "text/html": [
       "<div>\n",
       "<style>\n",
       "    .dataframe thead tr:only-child th {\n",
       "        text-align: right;\n",
       "    }\n",
       "\n",
       "    .dataframe thead th {\n",
       "        text-align: left;\n",
       "    }\n",
       "\n",
       "    .dataframe tbody tr th {\n",
       "        vertical-align: top;\n",
       "    }\n",
       "</style>\n",
       "<table border=\"1\" class=\"dataframe\">\n",
       "  <thead>\n",
       "    <tr style=\"text-align: right;\">\n",
       "      <th></th>\n",
       "      <th>addr_street</th>\n",
       "      <th>addr_number</th>\n",
       "      <th>addr_district</th>\n",
       "      <th>data_buildingdate</th>\n",
       "      <th>repair_year</th>\n",
       "      <th>data_storeys</th>\n",
       "      <th>data_residents</th>\n",
       "    </tr>\n",
       "  </thead>\n",
       "  <tbody>\n",
       "    <tr>\n",
       "      <th>0</th>\n",
       "      <td>Миллионная ул.</td>\n",
       "      <td>10</td>\n",
       "      <td>Центральный</td>\n",
       "      <td>1916</td>\n",
       "      <td>2000; 2011</td>\n",
       "      <td>4.0</td>\n",
       "      <td>48.0</td>\n",
       "    </tr>\n",
       "    <tr>\n",
       "      <th>1</th>\n",
       "      <td>Коллонтай ул.</td>\n",
       "      <td>25</td>\n",
       "      <td>Невский</td>\n",
       "      <td>1975</td>\n",
       "      <td>2007; 2008; 2016</td>\n",
       "      <td>9.0</td>\n",
       "      <td>355.0</td>\n",
       "    </tr>\n",
       "    <tr>\n",
       "      <th>2</th>\n",
       "      <td>Подвойского ул.</td>\n",
       "      <td>32</td>\n",
       "      <td>Невский</td>\n",
       "      <td>1988</td>\n",
       "      <td>2012; 2012</td>\n",
       "      <td>16.0</td>\n",
       "      <td>286.0</td>\n",
       "    </tr>\n",
       "    <tr>\n",
       "      <th>3</th>\n",
       "      <td>Ленина ул.</td>\n",
       "      <td>34</td>\n",
       "      <td>Петроградский</td>\n",
       "      <td>1961</td>\n",
       "      <td>2005; 2006; 2006; 2007; 2007; 2008; 2009; 2009...</td>\n",
       "      <td>7.0</td>\n",
       "      <td>147.0</td>\n",
       "    </tr>\n",
       "  </tbody>\n",
       "</table>\n",
       "</div>"
      ],
      "text/plain": [
       "       addr_street addr_number  addr_district data_buildingdate  \\\n",
       "0   Миллионная ул.          10    Центральный              1916   \n",
       "1    Коллонтай ул.          25        Невский              1975   \n",
       "2  Подвойского ул.          32        Невский              1988   \n",
       "3       Ленина ул.          34  Петроградский              1961   \n",
       "\n",
       "                                         repair_year  data_storeys  \\\n",
       "0                                         2000; 2011           4.0   \n",
       "1                                   2007; 2008; 2016           9.0   \n",
       "2                                         2012; 2012          16.0   \n",
       "3  2005; 2006; 2006; 2007; 2007; 2008; 2009; 2009...           7.0   \n",
       "\n",
       "   data_residents  \n",
       "0            48.0  \n",
       "1           355.0  \n",
       "2           286.0  \n",
       "3           147.0  "
      ]
     },
     "metadata": {},
     "output_type": "display_data"
    }
   ],
   "source": [
    "print_df_inf(buildings_info)\n",
    "display(buildings_info.head(4))"
   ]
  },
  {
   "cell_type": "raw",
   "metadata": {},
   "source": [
    "def code_addres(row):\n",
    "    addr_street = row['addr_street']\n",
    "    if addr_street == addr_street:\n",
    "        addr_street = addr_street.replace('наб.кан.', 'наб.')\n",
    "    return 'г.Санкт-Петербург,{street},{house}'\\\n",
    "                     .format(street=addr_street, house=row['addr_number'])\n",
    "        \n",
    "buildings_info['address'] = buildings_info.apply(code_addres,axis=1)\n",
    "buildings_info = transformators.geocode_addres(buildings_info)"
   ]
  },
  {
   "cell_type": "raw",
   "metadata": {},
   "source": [
    "def repair(row):\n",
    "    repair_year = row['repair_year']\n",
    "    if repair_year and repair_year == repair_year:\n",
    "        t=repair_year.split(';')\n",
    "        return t[-1],len(t)\n",
    "    else:\n",
    "        return row['data_buildingdate'],0\n",
    "buildings_info['repair_year'],  buildings_info['repair_count'] = zip(*buildings_info.apply(repair,axis=1))\n",
    "buildings_info=transformators.drop_columns(buildings_info,columns=['addr_street', 'addr_number'])\n",
    "buildings_info.to_csv(resolve_path('csv','buildings_info_transform.csv'),index=True,encoding='utf-8')"
   ]
  },
  {
   "cell_type": "code",
   "execution_count": 18,
   "metadata": {},
   "outputs": [
    {
     "data": {
      "text/html": [
       "<div>\n",
       "<style>\n",
       "    .dataframe thead tr:only-child th {\n",
       "        text-align: right;\n",
       "    }\n",
       "\n",
       "    .dataframe thead th {\n",
       "        text-align: left;\n",
       "    }\n",
       "\n",
       "    .dataframe tbody tr th {\n",
       "        vertical-align: top;\n",
       "    }\n",
       "</style>\n",
       "<table border=\"1\" class=\"dataframe\">\n",
       "  <thead>\n",
       "    <tr style=\"text-align: right;\">\n",
       "      <th></th>\n",
       "      <th>addr_district</th>\n",
       "      <th>data_buildingdate</th>\n",
       "      <th>repair_year</th>\n",
       "      <th>data_storeys</th>\n",
       "      <th>data_residents</th>\n",
       "      <th>address</th>\n",
       "      <th>repair_count</th>\n",
       "    </tr>\n",
       "  </thead>\n",
       "  <tbody>\n",
       "    <tr>\n",
       "      <th>0</th>\n",
       "      <td>Центральный</td>\n",
       "      <td>1916</td>\n",
       "      <td>2011</td>\n",
       "      <td>4.0</td>\n",
       "      <td>48.0</td>\n",
       "      <td>Russian Federation, Saint Petersburg, Millionn...</td>\n",
       "      <td>2</td>\n",
       "    </tr>\n",
       "    <tr>\n",
       "      <th>1</th>\n",
       "      <td>Невский</td>\n",
       "      <td>1975</td>\n",
       "      <td>2016</td>\n",
       "      <td>9.0</td>\n",
       "      <td>355.0</td>\n",
       "      <td>Russian Federation, Saint Petersburg, Kollonta...</td>\n",
       "      <td>3</td>\n",
       "    </tr>\n",
       "    <tr>\n",
       "      <th>2</th>\n",
       "      <td>Невский</td>\n",
       "      <td>1988</td>\n",
       "      <td>2012</td>\n",
       "      <td>16.0</td>\n",
       "      <td>286.0</td>\n",
       "      <td>Russian Federation, Saint Petersburg, Podvoysk...</td>\n",
       "      <td>2</td>\n",
       "    </tr>\n",
       "    <tr>\n",
       "      <th>3</th>\n",
       "      <td>Петроградский</td>\n",
       "      <td>1961</td>\n",
       "      <td>2015</td>\n",
       "      <td>7.0</td>\n",
       "      <td>147.0</td>\n",
       "      <td>Russian Federation, Saint Petersburg, Lenina S...</td>\n",
       "      <td>11</td>\n",
       "    </tr>\n",
       "    <tr>\n",
       "      <th>4</th>\n",
       "      <td>Кронштадский</td>\n",
       "      <td>1900</td>\n",
       "      <td>2014</td>\n",
       "      <td>2.0</td>\n",
       "      <td>29.0</td>\n",
       "      <td>Russian Federation, Saint Petersburg, territor...</td>\n",
       "      <td>8</td>\n",
       "    </tr>\n",
       "  </tbody>\n",
       "</table>\n",
       "</div>"
      ],
      "text/plain": [
       "   addr_district data_buildingdate repair_year  data_storeys  data_residents  \\\n",
       "0    Центральный              1916        2011           4.0            48.0   \n",
       "1        Невский              1975        2016           9.0           355.0   \n",
       "2        Невский              1988        2012          16.0           286.0   \n",
       "3  Петроградский              1961        2015           7.0           147.0   \n",
       "4   Кронштадский              1900        2014           2.0            29.0   \n",
       "\n",
       "                                             address  repair_count  \n",
       "0  Russian Federation, Saint Petersburg, Millionn...             2  \n",
       "1  Russian Federation, Saint Petersburg, Kollonta...             3  \n",
       "2  Russian Federation, Saint Petersburg, Podvoysk...             2  \n",
       "3  Russian Federation, Saint Petersburg, Lenina S...            11  \n",
       "4  Russian Federation, Saint Petersburg, territor...             8  "
      ]
     },
     "execution_count": 18,
     "metadata": {},
     "output_type": "execute_result"
    }
   ],
   "source": [
    "buildings_info=pd.read_csv(resolve_path('csv','buildings_info_transform.csv'),index_col=0)\n",
    "buildings_info.head()"
   ]
  },
  {
   "cell_type": "code",
   "execution_count": 19,
   "metadata": {},
   "outputs": [
    {
     "name": "stdout",
     "output_type": "stream",
     "text": [
      "<class 'pandas.core.frame.DataFrame'>\n",
      "RangeIndex: 5 entries, 0 to 4\n",
      "Data columns (total 4 columns):\n",
      "shop    5 non-null object\n",
      "name    5 non-null object\n",
      "lat     5 non-null float64\n",
      "lon     5 non-null float64\n",
      "dtypes: float64(2), object(2)\n",
      "memory usage: 240.0+ bytes\n"
     ]
    },
    {
     "data": {
      "text/plain": [
       "None"
      ]
     },
     "metadata": {},
     "output_type": "display_data"
    },
    {
     "data": {
      "text/html": [
       "<div>\n",
       "<style>\n",
       "    .dataframe thead tr:only-child th {\n",
       "        text-align: right;\n",
       "    }\n",
       "\n",
       "    .dataframe thead th {\n",
       "        text-align: left;\n",
       "    }\n",
       "\n",
       "    .dataframe tbody tr th {\n",
       "        vertical-align: top;\n",
       "    }\n",
       "</style>\n",
       "<table border=\"1\" class=\"dataframe\">\n",
       "  <thead>\n",
       "    <tr style=\"text-align: right;\">\n",
       "      <th></th>\n",
       "      <th>shop</th>\n",
       "      <th>name</th>\n",
       "      <th>lat</th>\n",
       "      <th>lon</th>\n",
       "    </tr>\n",
       "  </thead>\n",
       "  <tbody>\n",
       "    <tr>\n",
       "      <th>0</th>\n",
       "      <td>computer</td>\n",
       "      <td>Кей</td>\n",
       "      <td>60.048933</td>\n",
       "      <td>30.379963</td>\n",
       "    </tr>\n",
       "    <tr>\n",
       "      <th>1</th>\n",
       "      <td>photo</td>\n",
       "      <td>Яркий мир</td>\n",
       "      <td>60.043032</td>\n",
       "      <td>30.385281</td>\n",
       "    </tr>\n",
       "    <tr>\n",
       "      <th>2</th>\n",
       "      <td>supermarket</td>\n",
       "      <td>Магнит</td>\n",
       "      <td>60.046957</td>\n",
       "      <td>30.387773</td>\n",
       "    </tr>\n",
       "    <tr>\n",
       "      <th>3</th>\n",
       "      <td>supermarket</td>\n",
       "      <td>Магнит</td>\n",
       "      <td>60.043218</td>\n",
       "      <td>30.384391</td>\n",
       "    </tr>\n",
       "    <tr>\n",
       "      <th>4</th>\n",
       "      <td>supermarket</td>\n",
       "      <td>Народная 7Я семьЯ</td>\n",
       "      <td>60.012534</td>\n",
       "      <td>30.411242</td>\n",
       "    </tr>\n",
       "  </tbody>\n",
       "</table>\n",
       "</div>"
      ],
      "text/plain": [
       "          shop               name        lat        lon\n",
       "0     computer                Кей  60.048933  30.379963\n",
       "1        photo          Яркий мир  60.043032  30.385281\n",
       "2  supermarket             Магнит  60.046957  30.387773\n",
       "3  supermarket             Магнит  60.043218  30.384391\n",
       "4  supermarket  Народная 7Я семьЯ  60.012534  30.411242"
      ]
     },
     "metadata": {},
     "output_type": "display_data"
    }
   ],
   "source": [
    "shops = pd.read_csv(resolve_path('csv','shops.csv'), encoding=\"UTF-8\")\n",
    "show_df(shops.head())"
   ]
  },
  {
   "cell_type": "code",
   "execution_count": 20,
   "metadata": {},
   "outputs": [],
   "source": [
    "from sklearn.preprocessing import FunctionTransformer\n",
    "from sklearn.pipeline import make_pipeline\n",
    "import transformators"
   ]
  },
  {
   "cell_type": "code",
   "execution_count": 21,
   "metadata": {},
   "outputs": [
    {
     "name": "stdout",
     "output_type": "stream",
     "text": [
      "Клонки содержащие пустые значения:  ['address', 'building', 'municipality', 'url']\n",
      "Всего строк: 82,003\n"
     ]
    },
    {
     "data": {
      "text/html": [
       "<table>\n",
       "<thead>\n",
       "<tr><th>Имя параметра  </th><th style=\"text-align: right;\">  Количество уникальных значений</th><th>Примеры уникальных значений  </th></tr>\n",
       "</thead>\n",
       "<tbody>\n",
       "<tr><td>address        </td><td style=\"text-align: right;\">                           17529</td><td>['город Пушкин, Конюшенная улица, дом 37, литера А'\n",
       " 'г.Санкт-Петербург, проспект Героев, дом 24, корпус 3, литера А'\n",
       " 'г.Санкт-Петербург, Крюкова улица, дом 11, литера А' ...,\n",
       " 'г.Санкт-Петербург, улица Пограничника Гарькавого, дом 6, корпус 1, литера А'\n",
       " 'г.Санкт-Петербург, Остоумова улица, дом 21, литера А'\n",
       " 'г.Санкт-Петербург, Торфяная дорога, дом 2, корпус 1, литера А']                                                             </td></tr>\n",
       "<tr><td>building       </td><td style=\"text-align: right;\">                           17549</td><td>[  92194.  139731.   76648. ...,   19034.  198820.  124667.]</td></tr>\n",
       "<tr><td>category       </td><td style=\"text-align: right;\">                              61</td><td>[19  8 10 ..., 51 44  6]                                    </td></tr>\n",
       "<tr><td>city_object    </td><td style=\"text-align: right;\">                              19</td><td>[ 1  2  3 ...,  7  9 16]                                    </td></tr>\n",
       "<tr><td>district       </td><td style=\"text-align: right;\">                              18</td><td>[35 16 11 ..., 10 13 50]                                    </td></tr>\n",
       "<tr><td>is_public      </td><td style=\"text-align: right;\">                               2</td><td>[ True False]                                               </td></tr>\n",
       "<tr><td>latitude       </td><td style=\"text-align: right;\">                           41307</td><td>[ 59.7209877  59.8612263  59.9618079 ...,  59.9879922  59.8641658\n",
       "  59.988555 ]                                                             </td></tr>\n",
       "<tr><td>longitude      </td><td style=\"text-align: right;\">                           41610</td><td>[ 30.4156318  30.166544   30.4179586 ...,  30.3485164  30.3571933\n",
       "  30.2547917]                                                             </td></tr>\n",
       "<tr><td>municipality   </td><td style=\"text-align: right;\">                             112</td><td>[ 160.  111.  105. ...,  126.   84.  103.]                  </td></tr>\n",
       "<tr><td>reason         </td><td style=\"text-align: right;\">                             241</td><td>[210  26  35 ...,  90 256 160]                              </td></tr>\n",
       "<tr><td>status         </td><td style=\"text-align: right;\">                               6</td><td>['Получен ответ' 'Отклонено' 'Промежуточный ответ' 'Рассмотрение'\n",
       " 'Модерация' 'Не удовлетворён']                                                             </td></tr>\n",
       "<tr><td>type_of        </td><td style=\"text-align: right;\">                               2</td><td>['building' 'point']                                        </td></tr>\n",
       "<tr><td>url            </td><td style=\"text-align: right;\">                           28219</td><td>['/facilities/92194/problems/' nan '/facilities/57528/problems/' ...,\n",
       " '/facilities/198820/problems/' '/facilities/79374/problems/'\n",
       " '/problems/261695/']                                                             </td></tr>\n",
       "</tbody>\n",
       "</table>"
      ],
      "text/plain": [
       "<IPython.core.display.HTML object>"
      ]
     },
     "metadata": {},
     "output_type": "display_data"
    }
   ],
   "source": [
    "problems_source=pd.DataFrame.from_csv(resolve_path('csv','problems_source.csv'))\n",
    "problems=problems_source.sample(n=int(len(problems_source)*.1), replace=True, random_state=42)\n",
    "problems=problems.append(problems_source[problems_source['status']=='Не удовлетворён'])\n",
    "print_df_inf(problems)"
   ]
  },
  {
   "cell_type": "code",
   "execution_count": null,
   "metadata": {},
   "outputs": [],
   "source": [
    "%%time\n",
    "pipeline = make_pipeline(\n",
    "        FunctionTransformer(transformators.delete_rows, kw_args=dict(column='type_of',value='point'),validate=False),\n",
    "        FunctionTransformer(transformators.fill_none, validate=False),\n",
    "        FunctionTransformer(transformators.columns_as_int, validate=False),\n",
    "        FunctionTransformer(transformators.geocode_addres, validate=False),\n",
    "        FunctionTransformer(transformators.search_near_shops, kw_args=dict(shops_info=shops), validate=False),\n",
    "        FunctionTransformer(transformators.join_build_info,\n",
    "                             kw_args=dict(building_info=buildings_info),\n",
    "                            validate=False),\n",
    "        FunctionTransformer(transformators.label_encoder, validate=False),\n",
    "        FunctionTransformer(transformators.drop_columns, kw_args=dict(columns=['type_of', 'url']), validate=False)\n",
    "    )\n",
    "problems = pipeline.transform(problems)"
   ]
  },
  {
   "cell_type": "code",
   "execution_count": null,
   "metadata": {},
   "outputs": [],
   "source": [
    "problems_pipe = problems.copy()\n",
    "problems_pipe.to_csv(resolve_path('csv','problems_after_pipe.csv'),index=True,encoding='utf-8')"
   ]
  },
  {
   "cell_type": "markdown",
   "metadata": {},
   "source": [
    "----------"
   ]
  }
 ],
 "metadata": {
  "hide_input": false,
  "kernelspec": {
   "display_name": "Python 3",
   "language": "python",
   "name": "python3"
  },
  "language_info": {
   "codemirror_mode": {
    "name": "ipython",
    "version": 3
   },
   "file_extension": ".py",
   "mimetype": "text/x-python",
   "name": "python",
   "nbconvert_exporter": "python",
   "pygments_lexer": "ipython3",
   "version": "3.6.1"
  }
 },
 "nbformat": 4,
 "nbformat_minor": 2
}
