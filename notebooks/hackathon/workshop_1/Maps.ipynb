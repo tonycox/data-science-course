{
 "cells": [
  {
   "cell_type": "code",
   "execution_count": 1,
   "metadata": {},
   "outputs": [],
   "source": [
    "import numpy as np\n",
    "import folium\n",
    "from folium import plugins\n",
    "import os\n",
    "import pandas as pd\n",
    "from folium.plugins import MarkerCluster\n",
    "\n",
    "DATA_FOLDER = os.path.join('..','..','..', 'data', 'workshop_1')\n",
    "def resolve_path(*path):\n",
    "    return os.path.join(DATA_FOLDER,*path)\n",
    "\n",
    "city_objects=pd.DataFrame.from_csv(resolve_path('csv','city_objects.csv'))\n",
    "categories=pd.DataFrame.from_csv(resolve_path('csv','categories.csv'))\n",
    "reasons=pd.DataFrame.from_csv(resolve_path('csv','reasos.csv'))"
   ]
  },
  {
   "cell_type": "code",
   "execution_count": 3,
   "metadata": {},
   "outputs": [],
   "source": [
    "problems = pd.DataFrame.from_csv(resolve_path('csv','problems.csv'))\n",
    "df=problems.sample(n=int(len(problems)*.25), random_state=42)\n",
    "df=df.append(problems[problems['status']=='Не удовлетворён'])"
   ]
  },
  {
   "cell_type": "code",
   "execution_count": 61,
   "metadata": {},
   "outputs": [],
   "source": [
    "def create_popup(row):\n",
    "    cat = categories.loc[row['category']]['name']\n",
    "    res=reasons.loc[row['reason']]['name']\n",
    "    obj = city_objects.loc[row['city_object']]['name']\n",
    "    return 'id: <a target=\"_blank\" href=\"http://gorod.gov.spb.ru/problems/{id}\">{id}</a>\\\n",
    "            </br>{cat}/{reason} \\\n",
    "            </br>Тип объекта^ {obj_type}'\\\n",
    ".format(id=row.name, cat=cat,reason=res,obj_type=obj)\n",
    "\n"
   ]
  },
  {
   "cell_type": "code",
   "execution_count": 71,
   "metadata": {},
   "outputs": [],
   "source": [
    "def map_for_status(status, filename):\n",
    "    m = folium.Map([59.93863, 30.31413], zoom_start=10)\n",
    "    marker_cluster = MarkerCluster().add_to(m)\n",
    "    df[df['status']==status].apply(lambda row: add_marker(row,marker_cluster),axis=1)\n",
    "\n",
    "    m.save(resolve_path('maps', filename))\n",
    "    return m\n",
    "\n",
    "def add_marker(row,marker_cluster):\n",
    "    folium.Marker(location=[row[\"latitude\"], row[\"longitude\"]], popup=create_popup(row)).add_to(marker_cluster)\n",
    "\n"
   ]
  },
  {
   "cell_type": "markdown",
   "metadata": {},
   "source": [
    "**Будьте внимательны перед выполнением след ячейки.\n",
    "Карты лучше открывать как html страницы отдельно.**"
   ]
  },
  {
   "cell_type": "code",
   "execution_count": 77,
   "metadata": {},
   "outputs": [
    {
     "name": "stdout",
     "output_type": "stream",
     "text": [
      "Wall time: 1h 26s\n"
     ]
    }
   ],
   "source": [
    "%%time\n",
    "for status, file in [('Модерация','moderation'), ('Рассмотрение','processing'),('Отклонено','rejected'), \\\n",
    "                     ('Получен ответ','answered'), ('Промежуточный ответ','tmp_answer'), ('Не удовлетворён','not_satisfied')]:\n",
    "    map_for_status(status,file+'.html');"
   ]
  },
  {
   "cell_type": "code",
   "execution_count": 78,
   "metadata": {},
   "outputs": [],
   "source": [
    "m = folium.Map([59.93863, 30.31413], zoom_start=10)\n",
    "marker_cluster = MarkerCluster().add_to(m)\n",
    "df.apply(lambda row: add_marker(row,marker_cluster),axis=1)\n",
    "\n",
    "m.save(resolve_path('maps', 'all.html'))"
   ]
  },
  {
   "cell_type": "markdown",
   "metadata": {},
   "source": [
    "------"
   ]
  },
  {
   "cell_type": "markdown",
   "metadata": {},
   "source": [
    "## Распределение заявок на карте"
   ]
  },
  {
   "cell_type": "code",
   "execution_count": 79,
   "metadata": {},
   "outputs": [
    {
     "data": {
      "text/html": [
       "<iframe src='../../data/workshop_1/maps/all.html' width=700 height=350></iframe>"
      ],
      "text/plain": [
       "<IPython.core.display.HTML object>"
      ]
     },
     "metadata": {},
     "output_type": "display_data"
    }
   ],
   "source": [
    "%%HTML\n",
    "<iframe src='../../../data/workshop_1/maps/all.html' width=700 height=350></iframe>"
   ]
  },
  {
   "cell_type": "markdown",
   "metadata": {},
   "source": [
    "## Распределение заявок на рассмотрении"
   ]
  },
  {
   "cell_type": "code",
   "execution_count": 80,
   "metadata": {},
   "outputs": [
    {
     "data": {
      "text/html": [
       "<iframe src='../../data/workshop_1/maps/processing.html' width=700 height=350></iframe>"
      ],
      "text/plain": [
       "<IPython.core.display.HTML object>"
      ]
     },
     "metadata": {},
     "output_type": "display_data"
    }
   ],
   "source": [
    "%%HTML\n",
    "<iframe src='../../../data/workshop_1/maps/processing.html' width=700 height=350></iframe>"
   ]
  },
  {
   "cell_type": "markdown",
   "metadata": {},
   "source": [
    "## Распределение отклонненых  заявок\n"
   ]
  },
  {
   "cell_type": "code",
   "execution_count": 81,
   "metadata": {},
   "outputs": [
    {
     "data": {
      "text/html": [
       "<iframe src='../../data/workshop_1/maps/rejected.html' width=700 height=350></iframe>"
      ],
      "text/plain": [
       "<IPython.core.display.HTML object>"
      ]
     },
     "metadata": {},
     "output_type": "display_data"
    }
   ],
   "source": [
    "%%HTML\n",
    "<iframe src='../../../data/workshop_1/maps/rejected.html' width=700 height=350></iframe>"
   ]
  },
  {
   "cell_type": "markdown",
   "metadata": {},
   "source": [
    "## Распределение заявок с ответом"
   ]
  },
  {
   "cell_type": "code",
   "execution_count": 82,
   "metadata": {},
   "outputs": [
    {
     "data": {
      "text/html": [
       "<iframe src='../../data/workshop_1/maps/answered.html' width=700 height=350></iframe>"
      ],
      "text/plain": [
       "<IPython.core.display.HTML object>"
      ]
     },
     "metadata": {},
     "output_type": "display_data"
    }
   ],
   "source": [
    "%%HTML\n",
    "<iframe src='../../../data/workshop_1/maps/answered.html' width=700 height=350></iframe>"
   ]
  },
  {
   "cell_type": "markdown",
   "metadata": {},
   "source": [
    "## Распределение  заявок с промежуточным ответом"
   ]
  },
  {
   "cell_type": "code",
   "execution_count": 83,
   "metadata": {},
   "outputs": [
    {
     "data": {
      "text/html": [
       "<iframe src='../../data/workshop_1/maps/tmp_answer.html' width=700 height=350></iframe>"
      ],
      "text/plain": [
       "<IPython.core.display.HTML object>"
      ]
     },
     "metadata": {},
     "output_type": "display_data"
    }
   ],
   "source": [
    "%%HTML\n",
    "<iframe src='../../../data/workshop_1/maps/tmp_answer.html' width=700 height=350></iframe>"
   ]
  },
  {
   "cell_type": "markdown",
   "metadata": {},
   "source": [
    "## Распределение заявок на модерации"
   ]
  },
  {
   "cell_type": "code",
   "execution_count": null,
   "metadata": {},
   "outputs": [],
   "source": [
    "%%HTML\n",
    "<iframe src='../../../data/workshop_1/maps/moderation.html' width=700 height=350></iframe>"
   ]
  },
  {
   "cell_type": "markdown",
   "metadata": {},
   "source": [
    "## Распределение заявок со статусом \"Не удовлетворён\""
   ]
  },
  {
   "cell_type": "code",
   "execution_count": null,
   "metadata": {},
   "outputs": [],
   "source": [
    "%%HTML\n",
    "<iframe src='../../../data/workshop_1/maps/not_satisfied.html' width=700 height=350></iframe>"
   ]
  }
 ],
 "metadata": {
  "hide_input": false,
  "kernelspec": {
   "display_name": "Python 3",
   "language": "python",
   "name": "python3"
  },
  "language_info": {
   "codemirror_mode": {
    "name": "ipython",
    "version": 3
   },
   "file_extension": ".py",
   "mimetype": "text/x-python",
   "name": "python",
   "nbconvert_exporter": "python",
   "pygments_lexer": "ipython3",
   "version": "3.6.1"
  }
 },
 "nbformat": 4,
 "nbformat_minor": 2
}
